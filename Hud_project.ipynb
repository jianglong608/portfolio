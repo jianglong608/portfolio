{
 "cells": [
  {
   "cell_type": "code",
   "execution_count": 24,
   "metadata": {
    "collapsed": true
   },
   "outputs": [],
   "source": [
    "%matplotlib inline\n",
    "import numpy as np\n",
    "import pandas as pd\n",
    "from matplotlib import pyplot as plt\n",
    "import requests"
   ]
  },
  {
   "cell_type": "code",
   "execution_count": 9,
   "metadata": {
    "collapsed": false
   },
   "outputs": [
    {
     "name": "stdout",
     "output_type": "stream",
     "text": [
      "/Users/jianglongli/Desktop/GA/portfolio\n"
     ]
    }
   ],
   "source": [
    "cd ~/Desktop/GA/portfolio/"
   ]
  },
  {
   "cell_type": "code",
   "execution_count": 6,
   "metadata": {
    "collapsed": false
   },
   "outputs": [
    {
     "name": "stdout",
     "output_type": "stream",
     "text": [
      "iris-data-clean.csv                             public_housing_physical_inspection_scores.xlsx\n",
      "iris-data.csv                                   \u001b[34mtitanic\u001b[m\u001b[m/\n",
      "multifamily_physical_inspection_scores.xlsx\n"
     ]
    }
   ],
   "source": [
    "ls"
   ]
  },
  {
   "cell_type": "markdown",
   "metadata": {},
   "source": [
    "# Import data from data folder"
   ]
  },
  {
   "cell_type": "code",
   "execution_count": 25,
   "metadata": {
    "collapsed": false
   },
   "outputs": [
    {
     "name": "stdout",
     "output_type": "stream",
     "text": [
      "Downloading:\n"
     ]
    }
   ],
   "source": [
    "print(\"Downloading:\")\n",
    "response = requests.get(\"https://www.huduser.gov/portal/datasets/pis.html/Public Housing Physical Inspection Scores 2015\")"
   ]
  },
  {
   "cell_type": "code",
   "execution_count": 19,
   "metadata": {
    "collapsed": false
   },
   "outputs": [],
   "source": [
    "df = pd.read_excel(\"/Users/jianglongli/Desktop/GA/portfolio/data/public_housing_physical_inspection_scores.xlsx\", \n",
    "                  converters={'INSPECTION_ID': str,\n",
    "                             'DEVLOPMENT_ID': str,\n",
    "                             'CBSA_CODE': str,\n",
    "                             'COUNTY_CODE': str,\n",
    "                             'STATE_CODE': str,\n",
    "                             'ZIP': str})"
   ]
  },
  {
   "cell_type": "markdown",
   "metadata": {},
   "source": [
    "# Data exploration & visulization"
   ]
  },
  {
   "cell_type": "code",
   "execution_count": 20,
   "metadata": {
    "collapsed": false
   },
   "outputs": [
    {
     "name": "stdout",
     "output_type": "stream",
     "text": [
      "<class 'pandas.core.frame.DataFrame'>\n",
      "RangeIndex: 6464 entries, 0 to 6463\n",
      "Data columns (total 19 columns):\n",
      "INSPECTION_ID       6464 non-null object\n",
      "DEVLOPMENT_ID       6464 non-null object\n",
      "DEVELPMENT_NAME     6464 non-null object\n",
      "ADDRESS             6464 non-null object\n",
      "CITY                6464 non-null object\n",
      "CBSA_NAME           5535 non-null object\n",
      "CBSA_CODE           6458 non-null object\n",
      "COUNTY_NAME         6458 non-null object\n",
      "COUNTY_CODE         6458 non-null object\n",
      "STATE_NAME          6464 non-null object\n",
      "STATE_CODE          6464 non-null object\n",
      "ZIP                 6458 non-null object\n",
      "LATITUDE            6458 non-null float64\n",
      "LONGITUDE           6458 non-null float64\n",
      "LOCATION_QUALITY    6458 non-null object\n",
      "PHA_CODE            6464 non-null object\n",
      "PHA_NAME            6464 non-null object\n",
      "INSPECTION_SCORE    6464 non-null int64\n",
      "INSPECTION_DATE     6464 non-null object\n",
      "dtypes: float64(2), int64(1), object(16)\n",
      "memory usage: 959.6+ KB\n"
     ]
    }
   ],
   "source": [
    "df.info()"
   ]
  },
  {
   "cell_type": "code",
   "execution_count": 21,
   "metadata": {
    "collapsed": false
   },
   "outputs": [
    {
     "data": {
      "text/html": [
       "<div>\n",
       "<table border=\"1\" class=\"dataframe\">\n",
       "  <thead>\n",
       "    <tr style=\"text-align: right;\">\n",
       "      <th></th>\n",
       "      <th>INSPECTION_ID</th>\n",
       "      <th>DEVLOPMENT_ID</th>\n",
       "      <th>DEVELPMENT_NAME</th>\n",
       "      <th>ADDRESS</th>\n",
       "      <th>CITY</th>\n",
       "      <th>CBSA_NAME</th>\n",
       "      <th>CBSA_CODE</th>\n",
       "      <th>COUNTY_NAME</th>\n",
       "      <th>COUNTY_CODE</th>\n",
       "      <th>STATE_NAME</th>\n",
       "      <th>STATE_CODE</th>\n",
       "      <th>ZIP</th>\n",
       "      <th>LATITUDE</th>\n",
       "      <th>LONGITUDE</th>\n",
       "      <th>LOCATION_QUALITY</th>\n",
       "      <th>PHA_CODE</th>\n",
       "      <th>PHA_NAME</th>\n",
       "      <th>INSPECTION_SCORE</th>\n",
       "      <th>INSPECTION_DATE</th>\n",
       "    </tr>\n",
       "  </thead>\n",
       "  <tbody>\n",
       "    <tr>\n",
       "      <th>0</th>\n",
       "      <td>500002</td>\n",
       "      <td>AL002000016</td>\n",
       "      <td>FRANK W. BOYKIN TO</td>\n",
       "      <td>1600 Michigan Ave</td>\n",
       "      <td>Mobile</td>\n",
       "      <td>Mobile, AL Metropolitan Statistical Area</td>\n",
       "      <td>33660</td>\n",
       "      <td>Mobile</td>\n",
       "      <td>097</td>\n",
       "      <td>AL</td>\n",
       "      <td>01</td>\n",
       "      <td>36605</td>\n",
       "      <td>30.655610</td>\n",
       "      <td>-88.073678</td>\n",
       "      <td>R</td>\n",
       "      <td>AL002</td>\n",
       "      <td>MOBILE HOUSING BOARD</td>\n",
       "      <td>90</td>\n",
       "      <td>10/10/2012 10:02</td>\n",
       "    </tr>\n",
       "    <tr>\n",
       "      <th>1</th>\n",
       "      <td>500003</td>\n",
       "      <td>AL002000005</td>\n",
       "      <td>THOMAS JAMES PLACE</td>\n",
       "      <td>1555A Eagle Dr</td>\n",
       "      <td>Mobile</td>\n",
       "      <td>Mobile, AL Metropolitan Statistical Area</td>\n",
       "      <td>33660</td>\n",
       "      <td>Mobile</td>\n",
       "      <td>097</td>\n",
       "      <td>AL</td>\n",
       "      <td>01</td>\n",
       "      <td>36605</td>\n",
       "      <td>30.653786</td>\n",
       "      <td>-88.076086</td>\n",
       "      <td>4</td>\n",
       "      <td>AL002</td>\n",
       "      <td>MOBILE HOUSING BOARD</td>\n",
       "      <td>42</td>\n",
       "      <td>11/6/2012 10:25</td>\n",
       "    </tr>\n",
       "    <tr>\n",
       "      <th>2</th>\n",
       "      <td>500004</td>\n",
       "      <td>AL002000003</td>\n",
       "      <td>ROGER WILLIAMS HOM</td>\n",
       "      <td>308 Simington Dr</td>\n",
       "      <td>Mobile</td>\n",
       "      <td>Mobile, AL Metropolitan Statistical Area</td>\n",
       "      <td>33660</td>\n",
       "      <td>Mobile</td>\n",
       "      <td>097</td>\n",
       "      <td>AL</td>\n",
       "      <td>01</td>\n",
       "      <td>36617</td>\n",
       "      <td>30.702089</td>\n",
       "      <td>-88.076920</td>\n",
       "      <td>R</td>\n",
       "      <td>AL002</td>\n",
       "      <td>MOBILE HOUSING BOARD</td>\n",
       "      <td>34</td>\n",
       "      <td>4/9/2013 11:01</td>\n",
       "    </tr>\n",
       "    <tr>\n",
       "      <th>3</th>\n",
       "      <td>500005</td>\n",
       "      <td>AL002000006</td>\n",
       "      <td>GULF VILLAGE</td>\n",
       "      <td>2002 Ball Ave</td>\n",
       "      <td>Prichard</td>\n",
       "      <td>Mobile, AL Metropolitan Statistical Area</td>\n",
       "      <td>33660</td>\n",
       "      <td>Mobile</td>\n",
       "      <td>097</td>\n",
       "      <td>AL</td>\n",
       "      <td>01</td>\n",
       "      <td>36610</td>\n",
       "      <td>30.754667</td>\n",
       "      <td>-88.076900</td>\n",
       "      <td>R</td>\n",
       "      <td>AL002</td>\n",
       "      <td>MOBILE HOUSING BOARD</td>\n",
       "      <td>76</td>\n",
       "      <td>11/6/2012 11:04</td>\n",
       "    </tr>\n",
       "    <tr>\n",
       "      <th>4</th>\n",
       "      <td>500006</td>\n",
       "      <td>AL002000019</td>\n",
       "      <td>DOWNTOWN RENAISSAN</td>\n",
       "      <td>350 Bloodgood St</td>\n",
       "      <td>Mobile</td>\n",
       "      <td>Mobile, AL Metropolitan Statistical Area</td>\n",
       "      <td>33660</td>\n",
       "      <td>Mobile</td>\n",
       "      <td>097</td>\n",
       "      <td>AL</td>\n",
       "      <td>01</td>\n",
       "      <td>36603</td>\n",
       "      <td>30.699660</td>\n",
       "      <td>-88.049961</td>\n",
       "      <td>R</td>\n",
       "      <td>AL002</td>\n",
       "      <td>MOBILE HOUSING BOARD</td>\n",
       "      <td>94</td>\n",
       "      <td>10/11/2012 10:06</td>\n",
       "    </tr>\n",
       "  </tbody>\n",
       "</table>\n",
       "</div>"
      ],
      "text/plain": [
       "  INSPECTION_ID DEVLOPMENT_ID     DEVELPMENT_NAME           ADDRESS   \\\n",
       "0        500002   AL002000016  FRANK W. BOYKIN TO  1600 Michigan Ave   \n",
       "1        500003   AL002000005  THOMAS JAMES PLACE     1555A Eagle Dr   \n",
       "2        500004   AL002000003  ROGER WILLIAMS HOM   308 Simington Dr   \n",
       "3        500005   AL002000006        GULF VILLAGE      2002 Ball Ave   \n",
       "4        500006   AL002000019  DOWNTOWN RENAISSAN   350 Bloodgood St   \n",
       "\n",
       "       CITY                                 CBSA_NAME CBSA_CODE COUNTY_NAME  \\\n",
       "0    Mobile  Mobile, AL Metropolitan Statistical Area     33660      Mobile   \n",
       "1    Mobile  Mobile, AL Metropolitan Statistical Area     33660      Mobile   \n",
       "2    Mobile  Mobile, AL Metropolitan Statistical Area     33660      Mobile   \n",
       "3  Prichard  Mobile, AL Metropolitan Statistical Area     33660      Mobile   \n",
       "4    Mobile  Mobile, AL Metropolitan Statistical Area     33660      Mobile   \n",
       "\n",
       "  COUNTY_CODE STATE_NAME STATE_CODE    ZIP   LATITUDE  LONGITUDE  \\\n",
       "0         097         AL         01  36605  30.655610 -88.073678   \n",
       "1         097         AL         01  36605  30.653786 -88.076086   \n",
       "2         097         AL         01  36617  30.702089 -88.076920   \n",
       "3         097         AL         01  36610  30.754667 -88.076900   \n",
       "4         097         AL         01  36603  30.699660 -88.049961   \n",
       "\n",
       "  LOCATION_QUALITY PHA_CODE              PHA_NAME  INSPECTION_SCORE  \\\n",
       "0                R    AL002  MOBILE HOUSING BOARD                90   \n",
       "1                4    AL002  MOBILE HOUSING BOARD                42   \n",
       "2                R    AL002  MOBILE HOUSING BOARD                34   \n",
       "3                R    AL002  MOBILE HOUSING BOARD                76   \n",
       "4                R    AL002  MOBILE HOUSING BOARD                94   \n",
       "\n",
       "    INSPECTION_DATE  \n",
       "0  10/10/2012 10:02  \n",
       "1   11/6/2012 10:25  \n",
       "2    4/9/2013 11:01  \n",
       "3   11/6/2012 11:04  \n",
       "4  10/11/2012 10:06  "
      ]
     },
     "execution_count": 21,
     "metadata": {},
     "output_type": "execute_result"
    }
   ],
   "source": [
    "df.head()"
   ]
  },
  {
   "cell_type": "code",
   "execution_count": 22,
   "metadata": {
    "collapsed": false
   },
   "outputs": [
    {
     "data": {
      "text/html": [
       "<div>\n",
       "<table border=\"1\" class=\"dataframe\">\n",
       "  <thead>\n",
       "    <tr style=\"text-align: right;\">\n",
       "      <th></th>\n",
       "      <th>LATITUDE</th>\n",
       "      <th>LONGITUDE</th>\n",
       "      <th>INSPECTION_SCORE</th>\n",
       "    </tr>\n",
       "  </thead>\n",
       "  <tbody>\n",
       "    <tr>\n",
       "      <th>count</th>\n",
       "      <td>6458.000000</td>\n",
       "      <td>6458.000000</td>\n",
       "      <td>6464.000000</td>\n",
       "    </tr>\n",
       "    <tr>\n",
       "      <th>mean</th>\n",
       "      <td>36.965337</td>\n",
       "      <td>-87.103807</td>\n",
       "      <td>83.373453</td>\n",
       "    </tr>\n",
       "    <tr>\n",
       "      <th>std</th>\n",
       "      <td>6.152985</td>\n",
       "      <td>13.599253</td>\n",
       "      <td>13.561411</td>\n",
       "    </tr>\n",
       "    <tr>\n",
       "      <th>min</th>\n",
       "      <td>13.393044</td>\n",
       "      <td>-165.466400</td>\n",
       "      <td>9.000000</td>\n",
       "    </tr>\n",
       "    <tr>\n",
       "      <th>25%</th>\n",
       "      <td>33.638831</td>\n",
       "      <td>-93.554356</td>\n",
       "      <td>76.000000</td>\n",
       "    </tr>\n",
       "    <tr>\n",
       "      <th>50%</th>\n",
       "      <td>38.534495</td>\n",
       "      <td>-84.560183</td>\n",
       "      <td>87.000000</td>\n",
       "    </tr>\n",
       "    <tr>\n",
       "      <th>75%</th>\n",
       "      <td>41.090385</td>\n",
       "      <td>-77.425540</td>\n",
       "      <td>94.000000</td>\n",
       "    </tr>\n",
       "    <tr>\n",
       "      <th>max</th>\n",
       "      <td>64.843387</td>\n",
       "      <td>-64.695800</td>\n",
       "      <td>100.000000</td>\n",
       "    </tr>\n",
       "  </tbody>\n",
       "</table>\n",
       "</div>"
      ],
      "text/plain": [
       "          LATITUDE    LONGITUDE  INSPECTION_SCORE\n",
       "count  6458.000000  6458.000000       6464.000000\n",
       "mean     36.965337   -87.103807         83.373453\n",
       "std       6.152985    13.599253         13.561411\n",
       "min      13.393044  -165.466400          9.000000\n",
       "25%      33.638831   -93.554356         76.000000\n",
       "50%      38.534495   -84.560183         87.000000\n",
       "75%      41.090385   -77.425540         94.000000\n",
       "max      64.843387   -64.695800        100.000000"
      ]
     },
     "execution_count": 22,
     "metadata": {},
     "output_type": "execute_result"
    }
   ],
   "source": [
    "df.describe()"
   ]
  },
  {
   "cell_type": "code",
   "execution_count": 23,
   "metadata": {
    "collapsed": false
   },
   "outputs": [
    {
     "data": {
      "text/plain": [
       "<matplotlib.axes._subplots.AxesSubplot at 0x10adb03c8>"
      ]
     },
     "execution_count": 23,
     "metadata": {},
     "output_type": "execute_result"
    },
    {
     "data": {
      "image/png": "[encoded data removed]",
      "text/plain": [
       "<matplotlib.figure.Figure at 0x114320ba8>"
      ]
     },
     "metadata": {},
     "output_type": "display_data"
    }
   ],
   "source": [
    "df.INSPECTION_SCORE.hist()"
   ]
  },
  {
   "cell_type": "code",
   "execution_count": null,
   "metadata": {
    "collapsed": true
   },
   "outputs": [],
   "source": []
  }
 ],
 "metadata": {
  "kernelspec": {
   "display_name": "Python 3",
   "language": "python",
   "name": "python3"
  },
  "language_info": {
   "codemirror_mode": {
    "name": "ipython",
    "version": 3
   },
   "file_extension": ".py",
   "mimetype": "text/x-python",
   "name": "python",
   "nbconvert_exporter": "python",
   "pygments_lexer": "ipython3",
   "version": "3.5.1"
  }
 },
 "nbformat": 4,
 "nbformat_minor": 0
}
