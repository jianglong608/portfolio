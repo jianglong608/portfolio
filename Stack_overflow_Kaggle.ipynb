{
 "cells": [
  {
   "cell_type": "code",
   "execution_count": 61,
   "metadata": {
    "collapsed": true
   },
   "outputs": [],
   "source": [
    "%matplotlib inline \n",
    "from matplotlib import pyplot as plt\n",
    "import pandas as pd\n",
    "import numpy as np\n",
    "from IPython.display import display\n",
    "import sklearn"
   ]
  },
  {
   "cell_type": "code",
   "execution_count": 62,
   "metadata": {
    "collapsed": true
   },
   "outputs": [],
   "source": [
    "train = pd.read_csv('/Users/jianglongli/Downloads/train_stack')"
   ]
  },
  {
   "cell_type": "code",
   "execution_count": 63,
   "metadata": {
    "collapsed": true
   },
   "outputs": [],
   "source": [
    "train['PostCreationDate'] = pd.to_datetime(train.PostCreationDate, infer_datetime_format=True)\n",
    "train['OwnerCreationDate'] = pd.to_datetime(train.OwnerCreationDate, infer_datetime_format=True)\n",
    "train['PostClosedDate'] = pd.to_datetime(train.PostClosedDate, infer_datetime_format=True)\n",
    "train['open_status'] = train.OpenStatus.map(lambda x: 1 if x == \"open\" else 0)\n",
    "train['timing'] = (train.PostCreationDate - train.OwnerCreationDate).dt.days\n",
    "tag_col = ['Tag%d' % i for i in range(1, 6)]\n",
    "train['tag_num'] = train[tag_col].notnull().sum(axis = 1)\n",
    "train['title_len'] = train.Title.str.len()\n",
    "train['body_len'] = train.BodyMarkdown.str.len()\n",
    "train['title_wc'] = train.Title.map(lambda x: len(x.split(\" \")))\n",
    "train['body_wc'] = train.BodyMarkdown.map(lambda x: len(x.split()))\n",
    "train['avg_body_word_len'] = train.body_len / train.body_wc\n",
    "train['avg_title_word_len'] = train.title_len / train.title_wc"
   ]
  },
  {
   "cell_type": "code",
   "execution_count": 66,
   "metadata": {
    "collapsed": false
   },
   "outputs": [
    {
     "data": {
      "text/plain": [
       "Index(['PostId', 'PostCreationDate', 'OwnerUserId', 'OwnerCreationDate',\n",
       "       'ReputationAtPostCreation', 'OwnerUndeletedAnswerCountAtPostTime',\n",
       "       'Title', 'BodyMarkdown', 'Tag1', 'Tag2', 'Tag3', 'Tag4', 'Tag5',\n",
       "       'PostClosedDate', 'OpenStatus', 'open_status', 'timing', 'tag_num',\n",
       "       'title_len', 'body_len', 'title_wc', 'body_wc', 'avg_body_word_len',\n",
       "       'avg_title_word_len'],\n",
       "      dtype='object')"
      ]
     },
     "execution_count": 66,
     "metadata": {},
     "output_type": "execute_result"
    }
   ],
   "source": [
    "train.columns"
   ]
  },
  {
   "cell_type": "code",
   "execution_count": 67,
   "metadata": {
    "collapsed": false
   },
   "outputs": [
    {
     "data": {
      "text/plain": [
       "(100000, 24)"
      ]
     },
     "execution_count": 67,
     "metadata": {},
     "output_type": "execute_result"
    }
   ],
   "source": [
    "train.shape"
   ]
  },
  {
   "cell_type": "code",
   "execution_count": 68,
   "metadata": {
    "collapsed": false
   },
   "outputs": [
    {
     "name": "stdout",
     "output_type": "stream",
     "text": [
      "<class 'pandas.core.frame.DataFrame'>\n",
      "RangeIndex: 100000 entries, 0 to 99999\n",
      "Data columns (total 24 columns):\n",
      "PostId                                 100000 non-null int64\n",
      "PostCreationDate                       100000 non-null datetime64[ns]\n",
      "OwnerUserId                            100000 non-null int64\n",
      "OwnerCreationDate                      100000 non-null datetime64[ns]\n",
      "ReputationAtPostCreation               100000 non-null int64\n",
      "OwnerUndeletedAnswerCountAtPostTime    100000 non-null int64\n",
      "Title                                  100000 non-null object\n",
      "BodyMarkdown                           100000 non-null object\n",
      "Tag1                                   99999 non-null object\n",
      "Tag2                                   80687 non-null object\n",
      "Tag3                                   54228 non-null object\n",
      "Tag4                                   28275 non-null object\n",
      "Tag5                                   11116 non-null object\n",
      "PostClosedDate                         49921 non-null datetime64[ns]\n",
      "OpenStatus                             100000 non-null object\n",
      "open_status                            100000 non-null int64\n",
      "timing                                 100000 non-null int64\n",
      "tag_num                                100000 non-null int64\n",
      "title_len                              100000 non-null int64\n",
      "body_len                               100000 non-null int64\n",
      "title_wc                               100000 non-null int64\n",
      "body_wc                                100000 non-null int64\n",
      "avg_body_word_len                      100000 non-null float64\n",
      "avg_title_word_len                     100000 non-null float64\n",
      "dtypes: datetime64[ns](3), float64(2), int64(11), object(8)\n",
      "memory usage: 18.3+ MB\n"
     ]
    }
   ],
   "source": [
    "train.info()"
   ]
  },
  {
   "cell_type": "code",
   "execution_count": 69,
   "metadata": {
    "collapsed": false
   },
   "outputs": [
    {
     "data": {
      "text/plain": [
       "72237"
      ]
     },
     "execution_count": 69,
     "metadata": {},
     "output_type": "execute_result"
    }
   ],
   "source": [
    "len(train.OwnerUserId.unique())"
   ]
  },
  {
   "cell_type": "code",
   "execution_count": 70,
   "metadata": {
    "collapsed": false
   },
   "outputs": [
    {
     "data": {
      "text/html": [
       "<div>\n",
       "<table border=\"1\" class=\"dataframe\">\n",
       "  <thead>\n",
       "    <tr style=\"text-align: right;\">\n",
       "      <th></th>\n",
       "      <th>PostId</th>\n",
       "      <th>OwnerUserId</th>\n",
       "      <th>ReputationAtPostCreation</th>\n",
       "      <th>OwnerUndeletedAnswerCountAtPostTime</th>\n",
       "      <th>open_status</th>\n",
       "      <th>timing</th>\n",
       "      <th>tag_num</th>\n",
       "      <th>title_len</th>\n",
       "      <th>body_len</th>\n",
       "      <th>title_wc</th>\n",
       "      <th>body_wc</th>\n",
       "      <th>avg_body_word_len</th>\n",
       "      <th>avg_title_word_len</th>\n",
       "    </tr>\n",
       "  </thead>\n",
       "  <tbody>\n",
       "    <tr>\n",
       "      <th>count</th>\n",
       "      <td>1.000000e+05</td>\n",
       "      <td>1.000000e+05</td>\n",
       "      <td>100000.000000</td>\n",
       "      <td>100000.000000</td>\n",
       "      <td>100000.000000</td>\n",
       "      <td>100000.000000</td>\n",
       "      <td>100000.000000</td>\n",
       "      <td>100000.000000</td>\n",
       "      <td>100000.000000</td>\n",
       "      <td>100000.000000</td>\n",
       "      <td>100000.000000</td>\n",
       "      <td>100000.000000</td>\n",
       "      <td>100000.000000</td>\n",
       "    </tr>\n",
       "    <tr>\n",
       "      <th>mean</th>\n",
       "      <td>7.007524e+06</td>\n",
       "      <td>6.513870e+05</td>\n",
       "      <td>506.024570</td>\n",
       "      <td>19.394690</td>\n",
       "      <td>0.500790</td>\n",
       "      <td>215.981670</td>\n",
       "      <td>2.743050</td>\n",
       "      <td>48.183520</td>\n",
       "      <td>860.270560</td>\n",
       "      <td>8.053500</td>\n",
       "      <td>106.505260</td>\n",
       "      <td>7.200809</td>\n",
       "      <td>6.242551</td>\n",
       "    </tr>\n",
       "    <tr>\n",
       "      <th>std</th>\n",
       "      <td>3.234181e+06</td>\n",
       "      <td>4.389865e+05</td>\n",
       "      <td>2503.716289</td>\n",
       "      <td>88.593297</td>\n",
       "      <td>0.500002</td>\n",
       "      <td>270.017322</td>\n",
       "      <td>1.259898</td>\n",
       "      <td>20.388723</td>\n",
       "      <td>1538.007039</td>\n",
       "      <td>3.729766</td>\n",
       "      <td>132.517899</td>\n",
       "      <td>3.763400</td>\n",
       "      <td>1.563038</td>\n",
       "    </tr>\n",
       "    <tr>\n",
       "      <th>min</th>\n",
       "      <td>1.300000e+01</td>\n",
       "      <td>3.000000e+00</td>\n",
       "      <td>-33.000000</td>\n",
       "      <td>0.000000</td>\n",
       "      <td>0.000000</td>\n",
       "      <td>-1214.000000</td>\n",
       "      <td>0.000000</td>\n",
       "      <td>10.000000</td>\n",
       "      <td>15.000000</td>\n",
       "      <td>1.000000</td>\n",
       "      <td>1.000000</td>\n",
       "      <td>2.251119</td>\n",
       "      <td>2.636364</td>\n",
       "    </tr>\n",
       "    <tr>\n",
       "      <th>25%</th>\n",
       "      <td>4.547488e+06</td>\n",
       "      <td>2.678920e+05</td>\n",
       "      <td>1.000000</td>\n",
       "      <td>0.000000</td>\n",
       "      <td>0.000000</td>\n",
       "      <td>7.000000</td>\n",
       "      <td>2.000000</td>\n",
       "      <td>33.000000</td>\n",
       "      <td>270.000000</td>\n",
       "      <td>5.000000</td>\n",
       "      <td>44.000000</td>\n",
       "      <td>5.631986</td>\n",
       "      <td>5.300000</td>\n",
       "    </tr>\n",
       "    <tr>\n",
       "      <th>50%</th>\n",
       "      <td>7.433945e+06</td>\n",
       "      <td>6.093910e+05</td>\n",
       "      <td>36.000000</td>\n",
       "      <td>1.000000</td>\n",
       "      <td>1.000000</td>\n",
       "      <td>102.000000</td>\n",
       "      <td>3.000000</td>\n",
       "      <td>45.000000</td>\n",
       "      <td>499.000000</td>\n",
       "      <td>7.000000</td>\n",
       "      <td>76.000000</td>\n",
       "      <td>6.250000</td>\n",
       "      <td>6.000000</td>\n",
       "    </tr>\n",
       "    <tr>\n",
       "      <th>75%</th>\n",
       "      <td>9.758988e+06</td>\n",
       "      <td>9.979390e+05</td>\n",
       "      <td>270.000000</td>\n",
       "      <td>9.000000</td>\n",
       "      <td>1.000000</td>\n",
       "      <td>336.000000</td>\n",
       "      <td>4.000000</td>\n",
       "      <td>59.000000</td>\n",
       "      <td>924.000000</td>\n",
       "      <td>10.000000</td>\n",
       "      <td>128.000000</td>\n",
       "      <td>7.764706</td>\n",
       "      <td>6.833333</td>\n",
       "    </tr>\n",
       "    <tr>\n",
       "      <th>max</th>\n",
       "      <td>1.175062e+07</td>\n",
       "      <td>1.567070e+06</td>\n",
       "      <td>209631.000000</td>\n",
       "      <td>5772.000000</td>\n",
       "      <td>1.000000</td>\n",
       "      <td>1437.000000</td>\n",
       "      <td>5.000000</td>\n",
       "      <td>250.000000</td>\n",
       "      <td>31673.000000</td>\n",
       "      <td>48.000000</td>\n",
       "      <td>12066.000000</td>\n",
       "      <td>647.727273</td>\n",
       "      <td>72.000000</td>\n",
       "    </tr>\n",
       "  </tbody>\n",
       "</table>\n",
       "</div>"
      ],
      "text/plain": [
       "             PostId   OwnerUserId  ReputationAtPostCreation  \\\n",
       "count  1.000000e+05  1.000000e+05             100000.000000   \n",
       "mean   7.007524e+06  6.513870e+05                506.024570   \n",
       "std    3.234181e+06  4.389865e+05               2503.716289   \n",
       "min    1.300000e+01  3.000000e+00                -33.000000   \n",
       "25%    4.547488e+06  2.678920e+05                  1.000000   \n",
       "50%    7.433945e+06  6.093910e+05                 36.000000   \n",
       "75%    9.758988e+06  9.979390e+05                270.000000   \n",
       "max    1.175062e+07  1.567070e+06             209631.000000   \n",
       "\n",
       "       OwnerUndeletedAnswerCountAtPostTime    open_status         timing  \\\n",
       "count                        100000.000000  100000.000000  100000.000000   \n",
       "mean                             19.394690       0.500790     215.981670   \n",
       "std                              88.593297       0.500002     270.017322   \n",
       "min                               0.000000       0.000000   -1214.000000   \n",
       "25%                               0.000000       0.000000       7.000000   \n",
       "50%                               1.000000       1.000000     102.000000   \n",
       "75%                               9.000000       1.000000     336.000000   \n",
       "max                            5772.000000       1.000000    1437.000000   \n",
       "\n",
       "             tag_num      title_len       body_len       title_wc  \\\n",
       "count  100000.000000  100000.000000  100000.000000  100000.000000   \n",
       "mean        2.743050      48.183520     860.270560       8.053500   \n",
       "std         1.259898      20.388723    1538.007039       3.729766   \n",
       "min         0.000000      10.000000      15.000000       1.000000   \n",
       "25%         2.000000      33.000000     270.000000       5.000000   \n",
       "50%         3.000000      45.000000     499.000000       7.000000   \n",
       "75%         4.000000      59.000000     924.000000      10.000000   \n",
       "max         5.000000     250.000000   31673.000000      48.000000   \n",
       "\n",
       "             body_wc  avg_body_word_len  avg_title_word_len  \n",
       "count  100000.000000      100000.000000       100000.000000  \n",
       "mean      106.505260           7.200809            6.242551  \n",
       "std       132.517899           3.763400            1.563038  \n",
       "min         1.000000           2.251119            2.636364  \n",
       "25%        44.000000           5.631986            5.300000  \n",
       "50%        76.000000           6.250000            6.000000  \n",
       "75%       128.000000           7.764706            6.833333  \n",
       "max     12066.000000         647.727273           72.000000  "
      ]
     },
     "execution_count": 70,
     "metadata": {},
     "output_type": "execute_result"
    }
   ],
   "source": [
    "train.describe()"
   ]
  },
  {
   "cell_type": "code",
   "execution_count": 71,
   "metadata": {
    "collapsed": false
   },
   "outputs": [
    {
     "data": {
      "text/html": [
       "<div>\n",
       "<table border=\"1\" class=\"dataframe\">\n",
       "  <thead>\n",
       "    <tr style=\"text-align: right;\">\n",
       "      <th></th>\n",
       "      <th>PostId</th>\n",
       "      <th>OwnerUserId</th>\n",
       "      <th>ReputationAtPostCreation</th>\n",
       "      <th>OwnerUndeletedAnswerCountAtPostTime</th>\n",
       "      <th>open_status</th>\n",
       "      <th>timing</th>\n",
       "      <th>tag_num</th>\n",
       "      <th>title_len</th>\n",
       "      <th>body_len</th>\n",
       "      <th>title_wc</th>\n",
       "      <th>body_wc</th>\n",
       "      <th>avg_body_word_len</th>\n",
       "      <th>avg_title_word_len</th>\n",
       "    </tr>\n",
       "  </thead>\n",
       "  <tbody>\n",
       "    <tr>\n",
       "      <th>count</th>\n",
       "      <td>3.400000e+01</td>\n",
       "      <td>34.0</td>\n",
       "      <td>34.000000</td>\n",
       "      <td>34.000000</td>\n",
       "      <td>34.000000</td>\n",
       "      <td>34.000000</td>\n",
       "      <td>34.000000</td>\n",
       "      <td>34.000000</td>\n",
       "      <td>34.000000</td>\n",
       "      <td>34.000000</td>\n",
       "      <td>34.000000</td>\n",
       "      <td>34.000000</td>\n",
       "      <td>34.000000</td>\n",
       "    </tr>\n",
       "    <tr>\n",
       "      <th>mean</th>\n",
       "      <td>5.719266e+06</td>\n",
       "      <td>466534.0</td>\n",
       "      <td>1476.705882</td>\n",
       "      <td>7.205882</td>\n",
       "      <td>0.117647</td>\n",
       "      <td>321.382353</td>\n",
       "      <td>1.558824</td>\n",
       "      <td>29.735294</td>\n",
       "      <td>1716.117647</td>\n",
       "      <td>4.647059</td>\n",
       "      <td>134.441176</td>\n",
       "      <td>11.054804</td>\n",
       "      <td>7.038095</td>\n",
       "    </tr>\n",
       "    <tr>\n",
       "      <th>std</th>\n",
       "      <td>3.009805e+06</td>\n",
       "      <td>0.0</td>\n",
       "      <td>836.700175</td>\n",
       "      <td>2.459113</td>\n",
       "      <td>0.327035</td>\n",
       "      <td>282.866712</td>\n",
       "      <td>0.823561</td>\n",
       "      <td>6.720880</td>\n",
       "      <td>1725.712567</td>\n",
       "      <td>1.920896</td>\n",
       "      <td>108.377620</td>\n",
       "      <td>3.819297</td>\n",
       "      <td>2.267327</td>\n",
       "    </tr>\n",
       "    <tr>\n",
       "      <th>min</th>\n",
       "      <td>2.896811e+06</td>\n",
       "      <td>466534.0</td>\n",
       "      <td>152.000000</td>\n",
       "      <td>3.000000</td>\n",
       "      <td>0.000000</td>\n",
       "      <td>33.000000</td>\n",
       "      <td>1.000000</td>\n",
       "      <td>18.000000</td>\n",
       "      <td>47.000000</td>\n",
       "      <td>2.000000</td>\n",
       "      <td>10.000000</td>\n",
       "      <td>4.700000</td>\n",
       "      <td>2.833333</td>\n",
       "    </tr>\n",
       "    <tr>\n",
       "      <th>25%</th>\n",
       "      <td>3.278592e+06</td>\n",
       "      <td>466534.0</td>\n",
       "      <td>823.750000</td>\n",
       "      <td>5.000000</td>\n",
       "      <td>0.000000</td>\n",
       "      <td>88.250000</td>\n",
       "      <td>1.000000</td>\n",
       "      <td>25.250000</td>\n",
       "      <td>598.250000</td>\n",
       "      <td>3.000000</td>\n",
       "      <td>61.000000</td>\n",
       "      <td>8.599322</td>\n",
       "      <td>5.553571</td>\n",
       "    </tr>\n",
       "    <tr>\n",
       "      <th>50%</th>\n",
       "      <td>3.655870e+06</td>\n",
       "      <td>466534.0</td>\n",
       "      <td>1347.500000</td>\n",
       "      <td>7.500000</td>\n",
       "      <td>0.000000</td>\n",
       "      <td>138.500000</td>\n",
       "      <td>1.000000</td>\n",
       "      <td>30.000000</td>\n",
       "      <td>1255.500000</td>\n",
       "      <td>4.000000</td>\n",
       "      <td>117.000000</td>\n",
       "      <td>10.996461</td>\n",
       "      <td>6.450000</td>\n",
       "    </tr>\n",
       "    <tr>\n",
       "      <th>75%</th>\n",
       "      <td>8.189580e+06</td>\n",
       "      <td>466534.0</td>\n",
       "      <td>2243.500000</td>\n",
       "      <td>9.750000</td>\n",
       "      <td>0.000000</td>\n",
       "      <td>576.250000</td>\n",
       "      <td>2.000000</td>\n",
       "      <td>34.000000</td>\n",
       "      <td>2310.750000</td>\n",
       "      <td>5.750000</td>\n",
       "      <td>175.250000</td>\n",
       "      <td>13.386505</td>\n",
       "      <td>8.625000</td>\n",
       "    </tr>\n",
       "    <tr>\n",
       "      <th>max</th>\n",
       "      <td>1.150694e+07</td>\n",
       "      <td>466534.0</td>\n",
       "      <td>2694.000000</td>\n",
       "      <td>10.000000</td>\n",
       "      <td>1.000000</td>\n",
       "      <td>817.000000</td>\n",
       "      <td>4.000000</td>\n",
       "      <td>42.000000</td>\n",
       "      <td>7672.000000</td>\n",
       "      <td>12.000000</td>\n",
       "      <td>503.000000</td>\n",
       "      <td>21.475610</td>\n",
       "      <td>13.000000</td>\n",
       "    </tr>\n",
       "  </tbody>\n",
       "</table>\n",
       "</div>"
      ],
      "text/plain": [
       "             PostId  OwnerUserId  ReputationAtPostCreation  \\\n",
       "count  3.400000e+01         34.0                 34.000000   \n",
       "mean   5.719266e+06     466534.0               1476.705882   \n",
       "std    3.009805e+06          0.0                836.700175   \n",
       "min    2.896811e+06     466534.0                152.000000   \n",
       "25%    3.278592e+06     466534.0                823.750000   \n",
       "50%    3.655870e+06     466534.0               1347.500000   \n",
       "75%    8.189580e+06     466534.0               2243.500000   \n",
       "max    1.150694e+07     466534.0               2694.000000   \n",
       "\n",
       "       OwnerUndeletedAnswerCountAtPostTime  open_status      timing  \\\n",
       "count                            34.000000    34.000000   34.000000   \n",
       "mean                              7.205882     0.117647  321.382353   \n",
       "std                               2.459113     0.327035  282.866712   \n",
       "min                               3.000000     0.000000   33.000000   \n",
       "25%                               5.000000     0.000000   88.250000   \n",
       "50%                               7.500000     0.000000  138.500000   \n",
       "75%                               9.750000     0.000000  576.250000   \n",
       "max                              10.000000     1.000000  817.000000   \n",
       "\n",
       "         tag_num  title_len     body_len   title_wc     body_wc  \\\n",
       "count  34.000000  34.000000    34.000000  34.000000   34.000000   \n",
       "mean    1.558824  29.735294  1716.117647   4.647059  134.441176   \n",
       "std     0.823561   6.720880  1725.712567   1.920896  108.377620   \n",
       "min     1.000000  18.000000    47.000000   2.000000   10.000000   \n",
       "25%     1.000000  25.250000   598.250000   3.000000   61.000000   \n",
       "50%     1.000000  30.000000  1255.500000   4.000000  117.000000   \n",
       "75%     2.000000  34.000000  2310.750000   5.750000  175.250000   \n",
       "max     4.000000  42.000000  7672.000000  12.000000  503.000000   \n",
       "\n",
       "       avg_body_word_len  avg_title_word_len  \n",
       "count          34.000000           34.000000  \n",
       "mean           11.054804            7.038095  \n",
       "std             3.819297            2.267327  \n",
       "min             4.700000            2.833333  \n",
       "25%             8.599322            5.553571  \n",
       "50%            10.996461            6.450000  \n",
       "75%            13.386505            8.625000  \n",
       "max            21.475610           13.000000  "
      ]
     },
     "execution_count": 71,
     "metadata": {},
     "output_type": "execute_result"
    }
   ],
   "source": [
    "train[train.OwnerUserId==466534].describe()"
   ]
  },
  {
   "cell_type": "code",
   "execution_count": 72,
   "metadata": {
    "collapsed": false
   },
   "outputs": [
    {
     "data": {
      "text/html": [
       "<div>\n",
       "<table border=\"1\" class=\"dataframe\">\n",
       "  <thead>\n",
       "    <tr style=\"text-align: right;\">\n",
       "      <th></th>\n",
       "      <th>PostId</th>\n",
       "      <th>OwnerUserId</th>\n",
       "      <th>ReputationAtPostCreation</th>\n",
       "      <th>OwnerUndeletedAnswerCountAtPostTime</th>\n",
       "      <th>timing</th>\n",
       "      <th>tag_num</th>\n",
       "      <th>title_len</th>\n",
       "      <th>body_len</th>\n",
       "      <th>title_wc</th>\n",
       "      <th>body_wc</th>\n",
       "      <th>avg_body_word_len</th>\n",
       "      <th>avg_title_word_len</th>\n",
       "    </tr>\n",
       "    <tr>\n",
       "      <th>open_status</th>\n",
       "      <th></th>\n",
       "      <th></th>\n",
       "      <th></th>\n",
       "      <th></th>\n",
       "      <th></th>\n",
       "      <th></th>\n",
       "      <th></th>\n",
       "      <th></th>\n",
       "      <th></th>\n",
       "      <th></th>\n",
       "      <th></th>\n",
       "      <th></th>\n",
       "    </tr>\n",
       "  </thead>\n",
       "  <tbody>\n",
       "    <tr>\n",
       "      <th>0</th>\n",
       "      <td>7.585298e+06</td>\n",
       "      <td>754922.090944</td>\n",
       "      <td>357.595160</td>\n",
       "      <td>13.589391</td>\n",
       "      <td>181.024519</td>\n",
       "      <td>2.613850</td>\n",
       "      <td>45.851285</td>\n",
       "      <td>722.778630</td>\n",
       "      <td>7.806594</td>\n",
       "      <td>93.327477</td>\n",
       "      <td>6.807897</td>\n",
       "      <td>6.121289</td>\n",
       "    </tr>\n",
       "    <tr>\n",
       "      <th>1</th>\n",
       "      <td>6.431573e+06</td>\n",
       "      <td>548178.497254</td>\n",
       "      <td>653.985683</td>\n",
       "      <td>25.181673</td>\n",
       "      <td>250.828531</td>\n",
       "      <td>2.871842</td>\n",
       "      <td>50.508397</td>\n",
       "      <td>997.328701</td>\n",
       "      <td>8.299627</td>\n",
       "      <td>119.641466</td>\n",
       "      <td>7.592482</td>\n",
       "      <td>6.363430</td>\n",
       "    </tr>\n",
       "  </tbody>\n",
       "</table>\n",
       "</div>"
      ],
      "text/plain": [
       "                   PostId    OwnerUserId  ReputationAtPostCreation  \\\n",
       "open_status                                                          \n",
       "0            7.585298e+06  754922.090944                357.595160   \n",
       "1            6.431573e+06  548178.497254                653.985683   \n",
       "\n",
       "             OwnerUndeletedAnswerCountAtPostTime      timing   tag_num  \\\n",
       "open_status                                                              \n",
       "0                                      13.589391  181.024519  2.613850   \n",
       "1                                      25.181673  250.828531  2.871842   \n",
       "\n",
       "             title_len    body_len  title_wc     body_wc  avg_body_word_len  \\\n",
       "open_status                                                                   \n",
       "0            45.851285  722.778630  7.806594   93.327477           6.807897   \n",
       "1            50.508397  997.328701  8.299627  119.641466           7.592482   \n",
       "\n",
       "             avg_title_word_len  \n",
       "open_status                      \n",
       "0                      6.121289  \n",
       "1                      6.363430  "
      ]
     },
     "execution_count": 72,
     "metadata": {},
     "output_type": "execute_result"
    }
   ],
   "source": [
    "train.groupby('open_status').mean()"
   ]
  },
  {
   "cell_type": "code",
   "execution_count": 73,
   "metadata": {
    "collapsed": false
   },
   "outputs": [
    {
     "data": {
      "text/plain": [
       "<matplotlib.axes._subplots.AxesSubplot at 0x1190cacf8>"
      ]
     },
     "execution_count": 73,
     "metadata": {},
     "output_type": "execute_result"
    },
    {
     "data": {
      "image/png": "[encoded data removed]",
      "text/plain": [
       "<matplotlib.figure.Figure at 0x1190ca9e8>"
      ]
     },
     "metadata": {},
     "output_type": "display_data"
    }
   ],
   "source": [
    "mask = (train.ReputationAtPostCreation < 1000)\n",
    "train[(train.open_status == 1) & mask].ReputationAtPostCreation.hist(color = 'blue', alpha = .4)\n",
    "train[(train.open_status == 0) & mask].ReputationAtPostCreation.hist(color = 'green', alpha = .4)"
   ]
  },
  {
   "cell_type": "code",
   "execution_count": 74,
   "metadata": {
    "collapsed": false
   },
   "outputs": [
    {
     "data": {
      "text/html": [
       "<div>\n",
       "<table border=\"1\" class=\"dataframe\">\n",
       "  <thead>\n",
       "    <tr style=\"text-align: right;\">\n",
       "      <th></th>\n",
       "      <th>PostId</th>\n",
       "      <th>PostCreationDate</th>\n",
       "      <th>OwnerUserId</th>\n",
       "      <th>OwnerCreationDate</th>\n",
       "      <th>ReputationAtPostCreation</th>\n",
       "      <th>OwnerUndeletedAnswerCountAtPostTime</th>\n",
       "      <th>Title</th>\n",
       "      <th>BodyMarkdown</th>\n",
       "      <th>Tag1</th>\n",
       "      <th>Tag2</th>\n",
       "      <th>...</th>\n",
       "      <th>OpenStatus</th>\n",
       "      <th>open_status</th>\n",
       "      <th>timing</th>\n",
       "      <th>tag_num</th>\n",
       "      <th>title_len</th>\n",
       "      <th>body_len</th>\n",
       "      <th>title_wc</th>\n",
       "      <th>body_wc</th>\n",
       "      <th>avg_body_word_len</th>\n",
       "      <th>avg_title_word_len</th>\n",
       "    </tr>\n",
       "  </thead>\n",
       "  <tbody>\n",
       "    <tr>\n",
       "      <th>0</th>\n",
       "      <td>6046168</td>\n",
       "      <td>2011-05-18 14:14:05</td>\n",
       "      <td>543315</td>\n",
       "      <td>2010-09-17 10:15:06</td>\n",
       "      <td>1</td>\n",
       "      <td>2</td>\n",
       "      <td>For Mongodb is it better to reference an objec...</td>\n",
       "      <td>I am building a corpus of indexed sentences in...</td>\n",
       "      <td>mongodb</td>\n",
       "      <td>NaN</td>\n",
       "      <td>...</td>\n",
       "      <td>open</td>\n",
       "      <td>1</td>\n",
       "      <td>243</td>\n",
       "      <td>1</td>\n",
       "      <td>76</td>\n",
       "      <td>522</td>\n",
       "      <td>15</td>\n",
       "      <td>93</td>\n",
       "      <td>5.612903</td>\n",
       "      <td>5.066667</td>\n",
       "    </tr>\n",
       "    <tr>\n",
       "      <th>1</th>\n",
       "      <td>4873911</td>\n",
       "      <td>2011-02-02 11:30:10</td>\n",
       "      <td>465076</td>\n",
       "      <td>2010-10-03 09:30:58</td>\n",
       "      <td>192</td>\n",
       "      <td>24</td>\n",
       "      <td>How to insert schemalocation in a xml document...</td>\n",
       "      <td>i create a xml document with JAXP and search a...</td>\n",
       "      <td>dom</td>\n",
       "      <td>xsd</td>\n",
       "      <td>...</td>\n",
       "      <td>open</td>\n",
       "      <td>1</td>\n",
       "      <td>122</td>\n",
       "      <td>3</td>\n",
       "      <td>54</td>\n",
       "      <td>1023</td>\n",
       "      <td>10</td>\n",
       "      <td>75</td>\n",
       "      <td>13.640000</td>\n",
       "      <td>5.400000</td>\n",
       "    </tr>\n",
       "    <tr>\n",
       "      <th>2</th>\n",
       "      <td>3311559</td>\n",
       "      <td>2010-07-22 17:21:54</td>\n",
       "      <td>406143</td>\n",
       "      <td>2010-07-22 16:58:20</td>\n",
       "      <td>1</td>\n",
       "      <td>0</td>\n",
       "      <td>Too many lookup tables</td>\n",
       "      <td>What are the adverse effects of having too man...</td>\n",
       "      <td>sql-server</td>\n",
       "      <td>database-design</td>\n",
       "      <td>...</td>\n",
       "      <td>open</td>\n",
       "      <td>1</td>\n",
       "      <td>0</td>\n",
       "      <td>3</td>\n",
       "      <td>23</td>\n",
       "      <td>194</td>\n",
       "      <td>5</td>\n",
       "      <td>29</td>\n",
       "      <td>6.689655</td>\n",
       "      <td>4.600000</td>\n",
       "    </tr>\n",
       "    <tr>\n",
       "      <th>3</th>\n",
       "      <td>9990413</td>\n",
       "      <td>2012-04-03 09:18:39</td>\n",
       "      <td>851755</td>\n",
       "      <td>2011-07-19 10:22:40</td>\n",
       "      <td>4</td>\n",
       "      <td>1</td>\n",
       "      <td>What is this PHP code in VB.net</td>\n",
       "      <td>I am looking for the vb.net equivalent of this...</td>\n",
       "      <td>php</td>\n",
       "      <td>vb.net</td>\n",
       "      <td>...</td>\n",
       "      <td>too localized</td>\n",
       "      <td>0</td>\n",
       "      <td>258</td>\n",
       "      <td>2</td>\n",
       "      <td>31</td>\n",
       "      <td>961</td>\n",
       "      <td>7</td>\n",
       "      <td>88</td>\n",
       "      <td>10.920455</td>\n",
       "      <td>4.428571</td>\n",
       "    </tr>\n",
       "    <tr>\n",
       "      <th>4</th>\n",
       "      <td>10421966</td>\n",
       "      <td>2012-05-02 21:25:01</td>\n",
       "      <td>603588</td>\n",
       "      <td>2011-02-04 18:05:34</td>\n",
       "      <td>334</td>\n",
       "      <td>14</td>\n",
       "      <td>Spring-Data mongodb querying multiple classes ...</td>\n",
       "      <td>With Spring-Data, you can use the @Document an...</td>\n",
       "      <td>mongodb</td>\n",
       "      <td>spring-data</td>\n",
       "      <td>...</td>\n",
       "      <td>open</td>\n",
       "      <td>1</td>\n",
       "      <td>453</td>\n",
       "      <td>2</td>\n",
       "      <td>75</td>\n",
       "      <td>622</td>\n",
       "      <td>10</td>\n",
       "      <td>97</td>\n",
       "      <td>6.412371</td>\n",
       "      <td>7.500000</td>\n",
       "    </tr>\n",
       "  </tbody>\n",
       "</table>\n",
       "<p>5 rows × 24 columns</p>\n",
       "</div>"
      ],
      "text/plain": [
       "     PostId    PostCreationDate  OwnerUserId   OwnerCreationDate  \\\n",
       "0   6046168 2011-05-18 14:14:05       543315 2010-09-17 10:15:06   \n",
       "1   4873911 2011-02-02 11:30:10       465076 2010-10-03 09:30:58   \n",
       "2   3311559 2010-07-22 17:21:54       406143 2010-07-22 16:58:20   \n",
       "3   9990413 2012-04-03 09:18:39       851755 2011-07-19 10:22:40   \n",
       "4  10421966 2012-05-02 21:25:01       603588 2011-02-04 18:05:34   \n",
       "\n",
       "   ReputationAtPostCreation  OwnerUndeletedAnswerCountAtPostTime  \\\n",
       "0                         1                                    2   \n",
       "1                       192                                   24   \n",
       "2                         1                                    0   \n",
       "3                         4                                    1   \n",
       "4                       334                                   14   \n",
       "\n",
       "                                               Title  \\\n",
       "0  For Mongodb is it better to reference an objec...   \n",
       "1  How to insert schemalocation in a xml document...   \n",
       "2                            Too many lookup tables    \n",
       "3                    What is this PHP code in VB.net   \n",
       "4  Spring-Data mongodb querying multiple classes ...   \n",
       "\n",
       "                                        BodyMarkdown        Tag1  \\\n",
       "0  I am building a corpus of indexed sentences in...     mongodb   \n",
       "1  i create a xml document with JAXP and search a...         dom   \n",
       "2  What are the adverse effects of having too man...  sql-server   \n",
       "3  I am looking for the vb.net equivalent of this...         php   \n",
       "4  With Spring-Data, you can use the @Document an...     mongodb   \n",
       "\n",
       "              Tag2         ...             OpenStatus open_status timing  \\\n",
       "0              NaN         ...                   open           1    243   \n",
       "1              xsd         ...                   open           1    122   \n",
       "2  database-design         ...                   open           1      0   \n",
       "3           vb.net         ...          too localized           0    258   \n",
       "4      spring-data         ...                   open           1    453   \n",
       "\n",
       "  tag_num title_len  body_len  title_wc  body_wc  avg_body_word_len  \\\n",
       "0       1        76       522        15       93           5.612903   \n",
       "1       3        54      1023        10       75          13.640000   \n",
       "2       3        23       194         5       29           6.689655   \n",
       "3       2        31       961         7       88          10.920455   \n",
       "4       2        75       622        10       97           6.412371   \n",
       "\n",
       "   avg_title_word_len  \n",
       "0            5.066667  \n",
       "1            5.400000  \n",
       "2            4.600000  \n",
       "3            4.428571  \n",
       "4            7.500000  \n",
       "\n",
       "[5 rows x 24 columns]"
      ]
     },
     "execution_count": 74,
     "metadata": {},
     "output_type": "execute_result"
    }
   ],
   "source": [
    "train.head()"
   ]
  },
  {
   "cell_type": "code",
   "execution_count": 75,
   "metadata": {
    "collapsed": true
   },
   "outputs": [],
   "source": [
    "feat_col = ['ReputationAtPostCreation', 'OwnerUndeletedAnswerCountAtPostTime', 'timing', 'title_len', \n",
    "            'body_len', 'tag_num', 'title_wc', 'avg_body_word_len', 'avg_title_word_len']\n",
    "features = train[feat_col]\n",
    "labels = train['open_status']"
   ]
  },
  {
   "cell_type": "code",
   "execution_count": 76,
   "metadata": {
    "collapsed": false
   },
   "outputs": [],
   "source": [
    "from sklearn.linear_model import LogisticRegression\n",
    "from sklearn.cross_validation import cross_val_score, train_test_split\n",
    "from sklearn.svm import SVC\n",
    "from sklearn.metrics import confusion_matrix, classification_report, accuracy_score\n",
    "from sklearn.ensemble import RandomForestClassifier\n",
    "from sklearn.tree import DecisionTreeClassifier\n",
    "from sklearn.grid_search import GridSearchCV"
   ]
  },
  {
   "cell_type": "code",
   "execution_count": 77,
   "metadata": {
    "collapsed": true
   },
   "outputs": [],
   "source": [
    "feat_train, feat_test, labels_train, labels_test = train_test_split(features, labels, test_size = .2)"
   ]
  },
  {
   "cell_type": "code",
   "execution_count": null,
   "metadata": {
    "collapsed": false
   },
   "outputs": [],
   "source": [
    "logit = LogisticRegression()\n",
    "tree = DecisionTreeClassifier()\n",
    "forest = RandomForestClassifier(criterion='gini',n_estimators= 100, warm_start= False)\n",
    "# model_svc = SVC()\n",
    "cross_val_score(estimator=forest, cv = 10, X = features, y = labels)\n"
   ]
  },
  {
   "cell_type": "code",
   "execution_count": 80,
   "metadata": {
    "collapsed": false
   },
   "outputs": [
    {
     "data": {
      "text/plain": [
       "RandomForestClassifier(bootstrap=True, class_weight=None, criterion='gini',\n",
       "            max_depth=None, max_features='auto', max_leaf_nodes=None,\n",
       "            min_samples_leaf=1, min_samples_split=2,\n",
       "            min_weight_fraction_leaf=0.0, n_estimators=10, n_jobs=1,\n",
       "            oob_score=False, random_state=None, verbose=0,\n",
       "            warm_start=False)"
      ]
     },
     "execution_count": 80,
     "metadata": {},
     "output_type": "execute_result"
    }
   ],
   "source": [
    "logit.fit(feat_train, labels_train)\n",
    "labels_pred = logit.predict(feat_test)\n",
    "forest.fit(feat_train, labels_train)"
   ]
  },
  {
   "cell_type": "code",
   "execution_count": null,
   "metadata": {
    "collapsed": true
   },
   "outputs": [],
   "source": [
    "param_grid = {'n_estimators': [8, 10, 12, 16],\n",
    "              'criterion': ['gini', 'entropy'],\n",
    "              'warm_start': [True, False]}\n",
    "grid = GridSearchCV(estimator = forest, param_grid = param_grid, cv=10)\n",
    "grid.fit(features, labels)"
   ]
  },
  {
   "cell_type": "code",
   "execution_count": 100,
   "metadata": {
    "collapsed": false
   },
   "outputs": [
    {
     "name": "stdout",
     "output_type": "stream",
     "text": [
      "grid search best score:  0.63863\n",
      "best parameters:  {'criterion': 'gini', 'n_estimators': 16, 'warm_start': False}\n"
     ]
    }
   ],
   "source": [
    "print(\"grid search best score: \", grid.best_score_)\n",
    "print(\"best parameters: \", grid.best_params_)"
   ]
  },
  {
   "cell_type": "code",
   "execution_count": 60,
   "metadata": {
    "collapsed": false
   },
   "outputs": [
    {
     "name": "stdout",
     "output_type": "stream",
     "text": [
      "accuracy: 0.593600\n",
      "----------------------------------------------------\n",
      "             precision    recall  f1-score   support\n",
      "\n",
      "          0       0.58      0.65      0.61      9966\n",
      "          1       0.61      0.54      0.57     10034\n",
      "\n",
      "avg / total       0.59      0.59      0.59     20000\n",
      "\n",
      "----------------------------------------------------\n",
      "confusion matrix:\n",
      "[[6436 3530]\n",
      " [4598 5436]]\n"
     ]
    }
   ],
   "source": [
    "acc = accuracy_score(labels_test, labels_pred)\n",
    "print('accuracy: %f' % acc)\n",
    "print('----------------------------------------------------')\n",
    "print(classification_report(labels_test, labels_pred))\n",
    "print('----------------------------------------------------')\n",
    "print('confusion matrix:')\n",
    "print(confusion_matrix(labels_test, labels_pred))"
   ]
  },
  {
   "cell_type": "code",
   "execution_count": 94,
   "metadata": {
    "collapsed": false
   },
   "outputs": [
    {
     "data": {
      "text/plain": [
       "[('tag_num', 0.047035383707041523),\n",
       " ('title_wc', 0.052169872572005463),\n",
       " ('OwnerUndeletedAnswerCountAtPostTime', 0.064914693887442504),\n",
       " ('ReputationAtPostCreation', 0.1042180574096107),\n",
       " ('title_len', 0.10422667896999693),\n",
       " ('avg_title_word_len', 0.11262940230247767),\n",
       " ('timing', 0.11670373318698601),\n",
       " ('avg_body_word_len', 0.18387142247547991),\n",
       " ('body_len', 0.21423075548895931)]"
      ]
     },
     "execution_count": 94,
     "metadata": {},
     "output_type": "execute_result"
    }
   ],
   "source": [
    "sorted(list(zip(feat_col, forest.feature_importances_)), key = lambda x: x[1])"
   ]
  },
  {
   "cell_type": "code",
   "execution_count": 25,
   "metadata": {
    "collapsed": false
   },
   "outputs": [
    {
     "data": {
      "text/plain": [
       "(0, 1500)"
      ]
     },
     "execution_count": 25,
     "metadata": {},
     "output_type": "execute_result"
    },
    {
     "data": {
      "image/png": "[encoded data removed]",
      "text/plain": [
       "<matplotlib.figure.Figure at 0x1185bf1d0>"
      ]
     },
     "metadata": {},
     "output_type": "display_data"
    }
   ],
   "source": [
    "train.groupby('open_status').timing.hist(bins=50, alpha = .4)\n",
    "plt.xlim(0, 1500)"
   ]
  },
  {
   "cell_type": "code",
   "execution_count": null,
   "metadata": {
    "collapsed": true
   },
   "outputs": [],
   "source": []
  }
 ],
 "metadata": {
  "kernelspec": {
   "display_name": "Python 3",
   "language": "python",
   "name": "python3"
  },
  "language_info": {
   "codemirror_mode": {
    "name": "ipython",
    "version": 3
   },
   "file_extension": ".py",
   "mimetype": "text/x-python",
   "name": "python",
   "nbconvert_exporter": "python",
   "pygments_lexer": "ipython3",
   "version": "3.5.1"
  }
 },
 "nbformat": 4,
 "nbformat_minor": 0
}
