{
 "cells": [
  {
   "cell_type": "markdown",
   "metadata": {},
   "source": [
    "# The Traveling Tesla Salesman"
   ]
  },
  {
   "cell_type": "markdown",
   "metadata": {},
   "source": [
    "http://mortada.net/the-traveling-tesla-salesman.html"
   ]
  },
  {
   "cell_type": "code",
   "execution_count": 1,
   "metadata": {
    "collapsed": false
   },
   "outputs": [],
   "source": [
    "%matplotlib inline\n",
    "import matplotlib.pyplot as plt\n",
    "from IPython.core.pylabtools import figsize\n",
    "figsize(15, 5)"
   ]
  },
  {
   "cell_type": "code",
   "execution_count": 2,
   "metadata": {
    "collapsed": true
   },
   "outputs": [],
   "source": [
    "from bs4 import BeautifulSoup\n",
    "import re\n",
    "import requests\n",
    "import numpy as np\n",
    "import pandas as pd"
   ]
  },
  {
   "cell_type": "code",
   "execution_count": 3,
   "metadata": {
    "collapsed": true
   },
   "outputs": [],
   "source": [
    "# get the list of superchargers in the US\n",
    "url = 'http://www.teslamotors.com/findus/list/superchargers/United+States'\n",
    "rv = requests.get(url)\n",
    "content = rv.text"
   ]
  },
  {
   "cell_type": "code",
   "execution_count": 4,
   "metadata": {
    "collapsed": true
   },
   "outputs": [],
   "source": [
    "# get link to each supercharger, each page contains the supercharger's coordinates\n",
    "sc_page_urls = re.findall('(/findus/location/supercharger/\\w+)', content)"
   ]
  },
  {
   "cell_type": "code",
   "execution_count": 5,
   "metadata": {
    "collapsed": false
   },
   "outputs": [
    {
     "data": {
      "text/plain": [
       "['/findus/location/supercharger/truckeebrockwayroadsupercharger',\n",
       " '/findus/location/supercharger/truckeesupercharger',\n",
       " '/findus/location/supercharger/ukiahsupercharger',\n",
       " '/findus/location/supercharger/vacavillesupercharger',\n",
       " '/findus/location/supercharger/coloradospringssupercharger',\n",
       " '/findus/location/supercharger/denversupercharger',\n",
       " '/findus/location/supercharger/glenwoodspringssupercharger',\n",
       " '/findus/location/supercharger/grandjunctionsupercharger',\n",
       " '/findus/location/supercharger/limonsupercharger',\n",
       " '/findus/location/supercharger/parkmeadows',\n",
       " '/findus/location/supercharger/silverthornesupercharger',\n",
       " '/findus/location/supercharger/trinidadsupercharger',\n",
       " '/findus/location/supercharger/dariennorthsupercharger',\n",
       " '/findus/location/supercharger/dariensouthsupercharger',\n",
       " '/findus/location/supercharger/greenwichnorthsupercharger',\n",
       " '/findus/location/supercharger/greenwichsouthsupercharger',\n",
       " '/findus/location/supercharger/milfordnorthsupercharger',\n",
       " '/findus/location/supercharger/milfordsouthsupercharger',\n",
       " '/findus/location/supercharger/westhartfordsupercharger',\n",
       " '/findus/location/supercharger/newarksupercharger']"
      ]
     },
     "execution_count": 5,
     "metadata": {},
     "output_type": "execute_result"
    }
   ],
   "source": [
    "sc_page_urls[50:70]"
   ]
  },
  {
   "cell_type": "code",
   "execution_count": 33,
   "metadata": {
    "collapsed": false
   },
   "outputs": [],
   "source": [
    "# get the cooridnates (latitude, longitude) for each supercharger\n",
    "sc_names = []\n",
    "sc_coors = {}\n",
    "for sc_page_url in sc_page_urls[80:84]:\n",
    "    url = 'http://www.teslamotors.com' + sc_page_url\n",
    "    rv = requests.get(url)\n",
    "    soup = BeautifulSoup(rv.text, \"lxml\")\n",
    "    sc_name = soup.find('h1').text\n",
    "    sc_names.append(sc_name)\n",
    "    directions_link = soup.find('a', {'class': 'directions-link'})['href']\n",
    "    lat, lng = directions_link.split('=')[-1].split(',')\n",
    "    lat, lng = float(lat), float(lng)\n",
    "    sc_coors[sc_name] = {'lat': lat, 'lng': lng}"
   ]
  },
  {
   "cell_type": "code",
   "execution_count": 34,
   "metadata": {
    "collapsed": false
   },
   "outputs": [
    {
     "data": {
      "text/plain": [
       "['St. Augustine Supercharger',\n",
       " 'Tallahassee Supercharger',\n",
       " 'Turkey Lake Supercharger',\n",
       " 'West Palm Beach']"
      ]
     },
     "execution_count": 34,
     "metadata": {},
     "output_type": "execute_result"
    }
   ],
   "source": [
    "sc_names"
   ]
  },
  {
   "cell_type": "code",
   "execution_count": 35,
   "metadata": {
    "collapsed": true
   },
   "outputs": [],
   "source": [
    "# sort the names\n",
    "sc_names = sorted(sc_names)"
   ]
  },
  {
   "cell_type": "code",
   "execution_count": 36,
   "metadata": {
    "collapsed": false
   },
   "outputs": [
    {
     "data": {
      "text/html": [
       "<div>\n",
       "<table border=\"1\" class=\"dataframe\">\n",
       "  <thead>\n",
       "    <tr style=\"text-align: right;\">\n",
       "      <th></th>\n",
       "      <th>lat</th>\n",
       "      <th>lng</th>\n",
       "    </tr>\n",
       "  </thead>\n",
       "  <tbody>\n",
       "    <tr>\n",
       "      <th>St. Augustine Supercharger</th>\n",
       "      <td>29.924286</td>\n",
       "      <td>-81.416018</td>\n",
       "    </tr>\n",
       "    <tr>\n",
       "      <th>Tallahassee Supercharger</th>\n",
       "      <td>30.510908</td>\n",
       "      <td>-84.247841</td>\n",
       "    </tr>\n",
       "    <tr>\n",
       "      <th>Turkey Lake Supercharger</th>\n",
       "      <td>28.514873</td>\n",
       "      <td>-81.500189</td>\n",
       "    </tr>\n",
       "    <tr>\n",
       "      <th>West Palm Beach</th>\n",
       "      <td>26.778115</td>\n",
       "      <td>-80.109107</td>\n",
       "    </tr>\n",
       "  </tbody>\n",
       "</table>\n",
       "</div>"
      ],
      "text/plain": [
       "                                  lat        lng\n",
       "St. Augustine Supercharger  29.924286 -81.416018\n",
       "Tallahassee Supercharger    30.510908 -84.247841\n",
       "Turkey Lake Supercharger    28.514873 -81.500189\n",
       "West Palm Beach             26.778115 -80.109107"
      ]
     },
     "execution_count": 36,
     "metadata": {},
     "output_type": "execute_result"
    }
   ],
   "source": [
    "coords = pd.DataFrame.from_dict(sc_coors).T.reindex(sc_names)\n",
    "coords.head()"
   ]
  },
  {
   "cell_type": "code",
   "execution_count": 37,
   "metadata": {
    "collapsed": false
   },
   "outputs": [
    {
     "data": {
      "text/plain": [
       "<matplotlib.collections.PathCollection at 0x109fc1c88>"
      ]
     },
     "execution_count": 37,
     "metadata": {},
     "output_type": "execute_result"
    },
    {
     "data": {
      "image/png": "[encoded data removed]",
      "text/plain": [
       "<matplotlib.figure.Figure at 0x112e86e80>"
      ]
     },
     "metadata": {},
     "output_type": "display_data"
    }
   ],
   "source": [
    "plt.scatter(x = 'lat', y = 'lng', data=coords)"
   ]
  },
  {
   "cell_type": "code",
   "execution_count": 22,
   "metadata": {
    "collapsed": true
   },
   "outputs": [],
   "source": [
    "def distance_on_earth(lat1, long1, lat2, long2, radius=6378.388):\n",
    "    \"\"\"\n",
    "    Compute distance between two points on earth specified by latitude/longitude.\n",
    "    The earth is assumed to be a perfect sphere of given radius. The radius defaults\n",
    "    to 6378.388 kilometers. To convert to miles, divide by 1.60934\n",
    "    \n",
    "    Reference\n",
    "    ---------\n",
    "    Adopted from John D. Cook's blog post: \n",
    "    http://www.johndcook.com/blog/python_longitude_latitude/\n",
    "    \"\"\"\n",
    "    # Convert latitude and longitude to spherical coordinates in radians.\n",
    "    degrees_to_radians = np.pi / 180.0\n",
    "\n",
    "    # phi = 90 - latitude\n",
    "    phi1 = (90.0 - lat1) * degrees_to_radians\n",
    "    phi2 = (90.0 - lat2) * degrees_to_radians\n",
    "\n",
    "    # theta = longitude\n",
    "    theta1 = long1 * degrees_to_radians\n",
    "    theta2 = long2 * degrees_to_radians\n",
    "         \n",
    "    # Compute spherical distance from spherical coordinates.     \n",
    "    cos = (np.sin(phi1) * np.sin(phi2)* np.cos(theta1 - theta2) + \n",
    "           np.cos(phi1) * np.cos(phi2))\n",
    "    arc = np.arccos(cos)\n",
    "    rv = arc * radius\n",
    "    return rv"
   ]
  },
  {
   "cell_type": "code",
   "execution_count": 23,
   "metadata": {
    "collapsed": false
   },
   "outputs": [],
   "source": [
    "\n",
    "# get distances between all pairs\n",
    "mile_in_km = 1.60934\n",
    "distances = {}\n",
    "for i in range(len(sc_names)):\n",
    "    a = sc_names[i]\n",
    "    distances[a] = {}\n",
    "    for j in range(len(sc_names)):\n",
    "        b = sc_names[j]\n",
    "        if j == i:\n",
    "            distances[a][b] = 0.\n",
    "        elif j > i:\n",
    "            distances[a][b] = distance_on_earth(coords.ix[a, 'lat'],\n",
    "                                                coords.ix[a, 'lng'],\n",
    "                                                coords.ix[b, 'lat'],\n",
    "                                                coords.ix[b, 'lng'])\n",
    "        else:\n",
    "            distances[a][b] = distances[b][a]\n",
    "distances = pd.DataFrame(distances) / mile_in_km"
   ]
  },
  {
   "cell_type": "code",
   "execution_count": 24,
   "metadata": {
    "collapsed": false
   },
   "outputs": [
    {
     "data": {
      "text/html": [
       "<div>\n",
       "<table border=\"1\" class=\"dataframe\">\n",
       "  <thead>\n",
       "    <tr style=\"text-align: right;\">\n",
       "      <th></th>\n",
       "      <th>Brandon Supercharger</th>\n",
       "      <th>DeFuniak Springs Supercharger</th>\n",
       "      <th>Fort Drum Supercharger</th>\n",
       "      <th>Fort Myers Supercharger</th>\n",
       "      <th>Lake City Supercharger</th>\n",
       "    </tr>\n",
       "  </thead>\n",
       "  <tbody>\n",
       "    <tr>\n",
       "      <th>Brandon Supercharger</th>\n",
       "      <td>0.000000</td>\n",
       "      <td>298.803089</td>\n",
       "      <td>94.808554</td>\n",
       "      <td>105.923802</td>\n",
       "      <td>156.487923</td>\n",
       "    </tr>\n",
       "    <tr>\n",
       "      <th>DeFuniak Springs Supercharger</th>\n",
       "      <td>298.803089</td>\n",
       "      <td>0.000000</td>\n",
       "      <td>385.702296</td>\n",
       "      <td>393.566489</td>\n",
       "      <td>208.317450</td>\n",
       "    </tr>\n",
       "    <tr>\n",
       "      <th>Fort Drum Supercharger</th>\n",
       "      <td>94.808554</td>\n",
       "      <td>385.702296</td>\n",
       "      <td>0.000000</td>\n",
       "      <td>97.373274</td>\n",
       "      <td>210.961352</td>\n",
       "    </tr>\n",
       "    <tr>\n",
       "      <th>Fort Myers Supercharger</th>\n",
       "      <td>105.923802</td>\n",
       "      <td>393.566489</td>\n",
       "      <td>97.373274</td>\n",
       "      <td>0.000000</td>\n",
       "      <td>261.361295</td>\n",
       "    </tr>\n",
       "    <tr>\n",
       "      <th>Lake City Supercharger</th>\n",
       "      <td>156.487923</td>\n",
       "      <td>208.317450</td>\n",
       "      <td>210.961352</td>\n",
       "      <td>261.361295</td>\n",
       "      <td>0.000000</td>\n",
       "    </tr>\n",
       "  </tbody>\n",
       "</table>\n",
       "</div>"
      ],
      "text/plain": [
       "                               Brandon Supercharger  \\\n",
       "Brandon Supercharger                       0.000000   \n",
       "DeFuniak Springs Supercharger            298.803089   \n",
       "Fort Drum Supercharger                    94.808554   \n",
       "Fort Myers Supercharger                  105.923802   \n",
       "Lake City Supercharger                   156.487923   \n",
       "\n",
       "                               DeFuniak Springs Supercharger  \\\n",
       "Brandon Supercharger                              298.803089   \n",
       "DeFuniak Springs Supercharger                       0.000000   \n",
       "Fort Drum Supercharger                            385.702296   \n",
       "Fort Myers Supercharger                           393.566489   \n",
       "Lake City Supercharger                            208.317450   \n",
       "\n",
       "                               Fort Drum Supercharger  \\\n",
       "Brandon Supercharger                        94.808554   \n",
       "DeFuniak Springs Supercharger              385.702296   \n",
       "Fort Drum Supercharger                       0.000000   \n",
       "Fort Myers Supercharger                     97.373274   \n",
       "Lake City Supercharger                     210.961352   \n",
       "\n",
       "                               Fort Myers Supercharger  Lake City Supercharger  \n",
       "Brandon Supercharger                        105.923802              156.487923  \n",
       "DeFuniak Springs Supercharger               393.566489              208.317450  \n",
       "Fort Drum Supercharger                       97.373274              210.961352  \n",
       "Fort Myers Supercharger                       0.000000              261.361295  \n",
       "Lake City Supercharger                      261.361295                0.000000  "
      ]
     },
     "execution_count": 24,
     "metadata": {},
     "output_type": "execute_result"
    }
   ],
   "source": [
    "distances"
   ]
  },
  {
   "cell_type": "code",
   "execution_count": 38,
   "metadata": {
    "collapsed": false
   },
   "outputs": [
    {
     "data": {
      "text/plain": [
       "{'St. Augustine Supercharger': {'lat': 29.924286, 'lng': -81.416018},\n",
       " 'Tallahassee Supercharger': {'lat': 30.510908, 'lng': -84.247841},\n",
       " 'Turkey Lake Supercharger': {'lat': 28.514873, 'lng': -81.500189},\n",
       " 'West Palm Beach': {'lat': 26.7781155, 'lng': -80.1091072}}"
      ]
     },
     "execution_count": 38,
     "metadata": {},
     "output_type": "execute_result"
    }
   ],
   "source": [
    "sc_coors"
   ]
  },
  {
   "cell_type": "code",
   "execution_count": 39,
   "metadata": {
    "collapsed": true
   },
   "outputs": [],
   "source": [
    "# create input file for Concorde TSP solver\n",
    "sc_id = 0\n",
    "output = ''\n",
    "for sc_name in sc_names:\n",
    "    output += '%d %f %f\\n' % (sc_id, sc_coors[sc_name]['lat'], sc_coors[sc_name]['lng'])\n",
    "    sc_id += 1\n",
    "\n",
    "header = \"\"\"NAME : TTS\n",
    "COMMENT : Traveling Tesla Salesman\n",
    "TYPE : TSP\n",
    "DIMENSION : %d\n",
    "EDGE_WEIGHT_TYPE : GEO\n",
    "NODE_COORD_SECTION\n",
    "\"\"\" % sc_id\n",
    "\n",
    "with open('sc.tsp', 'w') as output_file:\n",
    "    output_file.write(header)\n",
    "    output_file.write(output)"
   ]
  },
  {
   "cell_type": "code",
   "execution_count": 40,
   "metadata": {
    "collapsed": false
   },
   "outputs": [
    {
     "name": "stdout",
     "output_type": "stream",
     "text": [
      "NAME : TTS\r\n",
      "COMMENT : Traveling Tesla Salesman\r\n",
      "TYPE : TSP\r\n",
      "DIMENSION : 4\r\n",
      "EDGE_WEIGHT_TYPE : GEO\r\n",
      "NODE_COORD_SECTION\r\n",
      "0 29.924286 -81.416018\r\n",
      "1 30.510908 -84.247841\r\n",
      "2 28.514873 -81.500189\r\n",
      "3 26.778115 -80.109107\r\n"
     ]
    }
   ],
   "source": [
    "cat sc.tsp"
   ]
  },
  {
   "cell_type": "code",
   "execution_count": 41,
   "metadata": {
    "collapsed": false
   },
   "outputs": [
    {
     "name": "stdout",
     "output_type": "stream",
     "text": [
      "concorde sc.tsp\r\n",
      "Host: Jianglongs-MacBook-Pro.local  Current process id: 1650\r\n",
      "Using random seed 1462896570\r\n",
      "Problem Name: TTS\r\n",
      "Traveling Tesla Salesman\r\n",
      "Problem Type: TSP\r\n",
      "Number of Nodes: 4\r\n",
      "Geographical Norm (CC_GEOGRAPHIC)\r\n",
      "Optimal Solution: 1225.00\r\n",
      "Total Running Time: 0.00 (seconds)\r\n"
     ]
    }
   ],
   "source": [
    "!concorde sc.tsp"
   ]
  },
  {
   "cell_type": "code",
   "execution_count": 56,
   "metadata": {
    "collapsed": false
   },
   "outputs": [
    {
     "data": {
      "text/plain": [
       "float"
      ]
     },
     "execution_count": 56,
     "metadata": {},
     "output_type": "execute_result"
    }
   ],
   "source": [
    "type(sc_coors['Los Angeles Supercharger']['lat'])"
   ]
  },
  {
   "cell_type": "code",
   "execution_count": 31,
   "metadata": {
    "collapsed": false
   },
   "outputs": [
    {
     "data": {
      "text/plain": [
       "'/Users/jianglongli/Desktop/GA/portfolio'"
      ]
     },
     "execution_count": 31,
     "metadata": {},
     "output_type": "execute_result"
    }
   ],
   "source": [
    "pwd"
   ]
  },
  {
   "cell_type": "code",
   "execution_count": 36,
   "metadata": {
    "collapsed": false
   },
   "outputs": [],
   "source": [
    "# after running the Concorde executable, parse the output file\n",
    "solution = []\n",
    "f = open('sc.sol', 'r')\n",
    "for line in f.readlines():\n",
    "    tokens = line.split()\n",
    "    solution += [int(c) for c in tokens]\n",
    "f.close()\n",
    "\n",
    "assert solution[0] == len(sc_names)\n",
    "solution = solution[1:]  # first number is just the dimension\n",
    "assert len(solution) == len(sc_names)"
   ]
  },
  {
   "cell_type": "code",
   "execution_count": 38,
   "metadata": {
    "collapsed": false
   },
   "outputs": [
    {
     "data": {
      "text/plain": [
       "0     Auburn Alabama Supercharger\n",
       "1           Holbrook Supercharger\n",
       "2          Flagstaff Supercharger\n",
       "3            Kingman Supercharger\n",
       "4       Cordes Lakes Supercharger\n",
       "5            Buckeye Supercharger\n",
       "6          Gila Bend Supercharger\n",
       "7        Casa Grande Supercharger\n",
       "8             Mobile Supercharger\n",
       "9         Greenville Supercharger\n",
       "10    Auburn Alabama Supercharger\n",
       "dtype: object"
      ]
     },
     "execution_count": 38,
     "metadata": {},
     "output_type": "execute_result"
    }
   ],
   "source": [
    "optimal_path = []\n",
    "for solution_id in solution:\n",
    "    optimal_path.append(sc_names[solution_id])\n",
    "\n",
    "# connect back to the starting node\n",
    "optimal_path.append(sc_names[solution[0]])\n",
    "optimal_path = pd.Series(optimal_path)\n",
    "optimal_path"
   ]
  },
  {
   "cell_type": "code",
   "execution_count": 40,
   "metadata": {
    "collapsed": false
   },
   "outputs": [
    {
     "data": {
      "text/plain": [
       "3537.0782638849332"
      ]
     },
     "execution_count": 40,
     "metadata": {},
     "output_type": "execute_result"
    }
   ],
   "source": [
    "\n",
    "# compute total distance in optimal path\n",
    "total = 0\n",
    "for i in range(len(optimal_path) - 1):\n",
    "    total += distances.ix[optimal_path[i], optimal_path[i + 1]]\n",
    "total"
   ]
  },
  {
   "cell_type": "code",
   "execution_count": null,
   "metadata": {
    "collapsed": true
   },
   "outputs": [],
   "source": []
  }
 ],
 "metadata": {
  "kernelspec": {
   "display_name": "Python 3",
   "language": "python",
   "name": "python3"
  },
  "language_info": {
   "codemirror_mode": {
    "name": "ipython",
    "version": 3
   },
   "file_extension": ".py",
   "mimetype": "text/x-python",
   "name": "python",
   "nbconvert_exporter": "python",
   "pygments_lexer": "ipython3",
   "version": "3.5.1"
  }
 },
 "nbformat": 4,
 "nbformat_minor": 0
}
