{
 "cells": [
  {
   "cell_type": "markdown",
   "metadata": {},
   "source": [
    "# Capital Bikeshare"
   ]
  },
  {
   "cell_type": "code",
   "execution_count": 112,
   "metadata": {
    "collapsed": false
   },
   "outputs": [],
   "source": [
    "%matplotlib inline\n",
    "import re, os\n",
    "import matplotlib.pyplot as plt\n",
    "import numpy as np\n",
    "import pandas as pd\n",
    "import seaborn as sns; sns.set()\n",
    "from IPython.display import display"
   ]
  },
  {
   "cell_type": "code",
   "execution_count": 3,
   "metadata": {
    "collapsed": false
   },
   "outputs": [],
   "source": [
    "import sys; sys.path.insert(1, os.path.join(sys.path[0], '..'))\n",
    "from utils.bikeshare import get_bikeshare_filename, get_year_quarter_tuples, download_bikeshare_data"
   ]
  },
  {
   "cell_type": "code",
   "execution_count": 4,
   "metadata": {
    "collapsed": false
   },
   "outputs": [
    {
     "name": "stdout",
     "output_type": "stream",
     "text": [
      "Downloading Capital Bikeshare Data for [2015, 2016] to ../data/bikeshare/\n",
      "\n",
      "Data Exists: 2015 Q1 | ../data/bikeshare/2015-Q1-cabi-trip-history-data.csv\n",
      "Data Exists: 2015 Q2 | ../data/bikeshare/2015-Q2-cabi-trip-history-data.csv\n",
      "Data Exists: 2015 Q3 | ../data/bikeshare/2015-Q3-cabi-trip-history-data.csv\n",
      "Data Exists: 2015 Q4 | ../data/bikeshare/2015-Q4-cabi-trip-history-data.csv\n",
      "Data Exists: 2016 Q1 | ../data/bikeshare/2016-Q1-cabi-trip-history-data.csv\n"
     ]
    }
   ],
   "source": [
    "years = [2015, 2016]\n",
    "#years = [2010]\n",
    "data_folder = \"../data/bikeshare/\"\n",
    "os.makedirs(data_folder, exist_ok=True)\n",
    "\n",
    "print(\"Downloading Capital Bikeshare Data for {years} to {folder}\".format(years=years, folder=data_folder))\n",
    "print()\n",
    "\n",
    "for year, quarter in get_year_quarter_tuples(years):\n",
    "    download_bikeshare_data(year, quarter, data_folder)"
   ]
  },
  {
   "cell_type": "code",
   "execution_count": 5,
   "metadata": {
    "collapsed": false
   },
   "outputs": [],
   "source": [
    "df_2016_q1 = pd.read_csv(\"../data/bikeshare/2016-Q1-cabi-trip-history-data.csv\")\n",
    "# df_2015_q4 = pd.read_csv(\"../data/bikeshare/2015-Q4-cabi-trip-history-data.csv\")\n",
    "# df_2015_q3 = pd.read_csv(\"../data/bikeshare/2015-Q3-cabi-trip-history-data.csv\")\n",
    "# df_2015_q2 = pd.read_csv(\"../data/bikeshare/2015-Q2-cabi-trip-history-data.csv\")\n",
    "# df_2015_q1 = pd.read_csv(\"../data/bikeshare/2015-Q1-cabi-trip-history-data.csv\")"
   ]
  },
  {
   "cell_type": "code",
   "execution_count": 6,
   "metadata": {
    "collapsed": false
   },
   "outputs": [
    {
     "data": {
      "text/html": [
       "<div>\n",
       "<table border=\"1\" class=\"dataframe\">\n",
       "  <thead>\n",
       "    <tr style=\"text-align: right;\">\n",
       "      <th></th>\n",
       "      <th>Duration (ms)</th>\n",
       "      <th>Start date</th>\n",
       "      <th>End date</th>\n",
       "      <th>Start station number</th>\n",
       "      <th>Start station</th>\n",
       "      <th>End station number</th>\n",
       "      <th>End station</th>\n",
       "      <th>Bike number</th>\n",
       "      <th>Member Type</th>\n",
       "    </tr>\n",
       "  </thead>\n",
       "  <tbody>\n",
       "    <tr>\n",
       "      <th>0</th>\n",
       "      <td>301295</td>\n",
       "      <td>3/31/2016 23:59</td>\n",
       "      <td>4/1/2016 0:04</td>\n",
       "      <td>31280</td>\n",
       "      <td>11th &amp; S St NW</td>\n",
       "      <td>31506</td>\n",
       "      <td>1st &amp; Rhode Island Ave NW</td>\n",
       "      <td>W00022</td>\n",
       "      <td>Registered</td>\n",
       "    </tr>\n",
       "    <tr>\n",
       "      <th>1</th>\n",
       "      <td>557887</td>\n",
       "      <td>3/31/2016 23:59</td>\n",
       "      <td>4/1/2016 0:08</td>\n",
       "      <td>31275</td>\n",
       "      <td>New Hampshire Ave &amp; 24th St NW</td>\n",
       "      <td>31114</td>\n",
       "      <td>18th St &amp; Wyoming Ave NW</td>\n",
       "      <td>W01294</td>\n",
       "      <td>Registered</td>\n",
       "    </tr>\n",
       "    <tr>\n",
       "      <th>2</th>\n",
       "      <td>555944</td>\n",
       "      <td>3/31/2016 23:59</td>\n",
       "      <td>4/1/2016 0:08</td>\n",
       "      <td>31101</td>\n",
       "      <td>14th &amp; V St NW</td>\n",
       "      <td>31221</td>\n",
       "      <td>18th &amp; M St NW</td>\n",
       "      <td>W01416</td>\n",
       "      <td>Registered</td>\n",
       "    </tr>\n",
       "    <tr>\n",
       "      <th>3</th>\n",
       "      <td>766916</td>\n",
       "      <td>3/31/2016 23:57</td>\n",
       "      <td>4/1/2016 0:09</td>\n",
       "      <td>31226</td>\n",
       "      <td>34th St &amp; Wisconsin Ave NW</td>\n",
       "      <td>31214</td>\n",
       "      <td>17th &amp; Corcoran St NW</td>\n",
       "      <td>W01090</td>\n",
       "      <td>Registered</td>\n",
       "    </tr>\n",
       "    <tr>\n",
       "      <th>4</th>\n",
       "      <td>139656</td>\n",
       "      <td>3/31/2016 23:57</td>\n",
       "      <td>3/31/2016 23:59</td>\n",
       "      <td>31011</td>\n",
       "      <td>23rd &amp; Crystal Dr</td>\n",
       "      <td>31009</td>\n",
       "      <td>27th &amp; Crystal Dr</td>\n",
       "      <td>W21934</td>\n",
       "      <td>Registered</td>\n",
       "    </tr>\n",
       "  </tbody>\n",
       "</table>\n",
       "</div>"
      ],
      "text/plain": [
       "   Duration (ms)       Start date         End date  Start station number  \\\n",
       "0         301295  3/31/2016 23:59    4/1/2016 0:04                 31280   \n",
       "1         557887  3/31/2016 23:59    4/1/2016 0:08                 31275   \n",
       "2         555944  3/31/2016 23:59    4/1/2016 0:08                 31101   \n",
       "3         766916  3/31/2016 23:57    4/1/2016 0:09                 31226   \n",
       "4         139656  3/31/2016 23:57  3/31/2016 23:59                 31011   \n",
       "\n",
       "                    Start station  End station number  \\\n",
       "0                  11th & S St NW               31506   \n",
       "1  New Hampshire Ave & 24th St NW               31114   \n",
       "2                  14th & V St NW               31221   \n",
       "3      34th St & Wisconsin Ave NW               31214   \n",
       "4               23rd & Crystal Dr               31009   \n",
       "\n",
       "                 End station Bike number Member Type  \n",
       "0  1st & Rhode Island Ave NW      W00022  Registered  \n",
       "1   18th St & Wyoming Ave NW      W01294  Registered  \n",
       "2             18th & M St NW      W01416  Registered  \n",
       "3      17th & Corcoran St NW      W01090  Registered  \n",
       "4          27th & Crystal Dr      W21934  Registered  "
      ]
     },
     "execution_count": 6,
     "metadata": {},
     "output_type": "execute_result"
    }
   ],
   "source": [
    "df_2016_q1.head()"
   ]
  },
  {
   "cell_type": "code",
   "execution_count": 113,
   "metadata": {
    "collapsed": false
   },
   "outputs": [],
   "source": [
    "# df[(df.start_date.dt.dayofweek>=5)].start_date.dt.hour.value_counts().sort_index().plot()\n",
    "# df[(df.start_date.dt.dayofweek<5)].start_date.dt.hour.value_counts().sort_index().plot()"
   ]
  },
  {
   "cell_type": "markdown",
   "metadata": {
    "collapsed": true
   },
   "source": [
    "    def read_bikeshare_data(year, quarter):\n",
    "        filename = \"../data/bikeshare/2015-Q1-cabi-trip-history-data.csv\".format(\n",
    "            year = year,\n",
    "            quarter = quarter\n",
    "        )\n",
    "        df = pd.read_csv(filename)\n",
    "    #     df.rename(columns={\"Duration (ms)\" : \"duration\", \n",
    "    #                        \"Start date\": \"start_date\", \n",
    "    #                       \"End date\": \"end_date\",\n",
    "    #                       \"Start station number\" : \"start_station_number\",\n",
    "    #                       \"Start station\" : \"start_station\",\n",
    "    #                       \"End station number\" : \"end_station_number\",\n",
    "    #                       \"End station\" : \"end_station_number\",\n",
    "    #                       \"Bike number\" : \"bike_number\",\n",
    "    #                       \"Member Type\" : \"member_type\"})\n",
    "        df.rename(columns={\n",
    "                     \"duration (ms)\" : \"duration\",\n",
    "                    \"bike number\" : \"bike\",\n",
    "                    \"bike #\" : \"bike\"}, inplace=True)\n",
    "        df.rename(columns = lambda x: \"_\".join(x.split()), inplace=True)\n",
    "\n",
    "    #     df['start_date'] = pd.to_datetime(df.start_date, infer_datetime_format=True)\n",
    "    #     df['end_date'] = pd.to_datetime(df.end_date, infer_end_format=True)\n",
    "\n",
    "    #     return df"
   ]
  },
  {
   "cell_type": "code",
   "execution_count": 8,
   "metadata": {
    "collapsed": true
   },
   "outputs": [],
   "source": [
    "def read_bikeshare_data(year, quarter):\n",
    "    filename = \"../data/bikeshare/{year}-Q{quarter}-cabi-trip-history-data.csv\".format(\n",
    "        year=year,\n",
    "        quarter=quarter\n",
    "    )\n",
    "    df = pd.read_csv(filename)\n",
    "    df.rename(columns=lambda x: x.lower(), inplace=True)\n",
    "    df.rename(columns={\n",
    "                \"duration (ms)\": \"duration\",\n",
    "                \"bike number\": \"bike\", \n",
    "                \"bike #\": \"bike\"}, inplace=True)\n",
    "    df.rename(columns=lambda x: \"_\".join(x.split()), inplace=True)\n",
    "    \n",
    "    df['start_date'] = pd.to_datetime(df.start_date, infer_datetime_format=True)\n",
    "    df['end_date'] = pd.to_datetime(df.end_date, infer_datetime_format=True)\n",
    "    return df"
   ]
  },
  {
   "cell_type": "code",
   "execution_count": 10,
   "metadata": {
    "collapsed": false
   },
   "outputs": [],
   "source": [
    "df = read_bikeshare_data(2016, 1)"
   ]
  },
  {
   "cell_type": "code",
   "execution_count": 11,
   "metadata": {
    "collapsed": false
   },
   "outputs": [
    {
     "data": {
      "text/html": [
       "<div>\n",
       "<table border=\"1\" class=\"dataframe\">\n",
       "  <thead>\n",
       "    <tr style=\"text-align: right;\">\n",
       "      <th></th>\n",
       "      <th>duration</th>\n",
       "      <th>start_date</th>\n",
       "      <th>end_date</th>\n",
       "      <th>start_station_number</th>\n",
       "      <th>start_station</th>\n",
       "      <th>end_station_number</th>\n",
       "      <th>end_station</th>\n",
       "      <th>bike</th>\n",
       "      <th>member_type</th>\n",
       "    </tr>\n",
       "  </thead>\n",
       "  <tbody>\n",
       "    <tr>\n",
       "      <th>0</th>\n",
       "      <td>301295</td>\n",
       "      <td>2016-03-31 23:59:00</td>\n",
       "      <td>2016-04-01 00:04:00</td>\n",
       "      <td>31280</td>\n",
       "      <td>11th &amp; S St NW</td>\n",
       "      <td>31506</td>\n",
       "      <td>1st &amp; Rhode Island Ave NW</td>\n",
       "      <td>W00022</td>\n",
       "      <td>Registered</td>\n",
       "    </tr>\n",
       "    <tr>\n",
       "      <th>1</th>\n",
       "      <td>557887</td>\n",
       "      <td>2016-03-31 23:59:00</td>\n",
       "      <td>2016-04-01 00:08:00</td>\n",
       "      <td>31275</td>\n",
       "      <td>New Hampshire Ave &amp; 24th St NW</td>\n",
       "      <td>31114</td>\n",
       "      <td>18th St &amp; Wyoming Ave NW</td>\n",
       "      <td>W01294</td>\n",
       "      <td>Registered</td>\n",
       "    </tr>\n",
       "    <tr>\n",
       "      <th>2</th>\n",
       "      <td>555944</td>\n",
       "      <td>2016-03-31 23:59:00</td>\n",
       "      <td>2016-04-01 00:08:00</td>\n",
       "      <td>31101</td>\n",
       "      <td>14th &amp; V St NW</td>\n",
       "      <td>31221</td>\n",
       "      <td>18th &amp; M St NW</td>\n",
       "      <td>W01416</td>\n",
       "      <td>Registered</td>\n",
       "    </tr>\n",
       "    <tr>\n",
       "      <th>3</th>\n",
       "      <td>766916</td>\n",
       "      <td>2016-03-31 23:57:00</td>\n",
       "      <td>2016-04-01 00:09:00</td>\n",
       "      <td>31226</td>\n",
       "      <td>34th St &amp; Wisconsin Ave NW</td>\n",
       "      <td>31214</td>\n",
       "      <td>17th &amp; Corcoran St NW</td>\n",
       "      <td>W01090</td>\n",
       "      <td>Registered</td>\n",
       "    </tr>\n",
       "    <tr>\n",
       "      <th>4</th>\n",
       "      <td>139656</td>\n",
       "      <td>2016-03-31 23:57:00</td>\n",
       "      <td>2016-03-31 23:59:00</td>\n",
       "      <td>31011</td>\n",
       "      <td>23rd &amp; Crystal Dr</td>\n",
       "      <td>31009</td>\n",
       "      <td>27th &amp; Crystal Dr</td>\n",
       "      <td>W21934</td>\n",
       "      <td>Registered</td>\n",
       "    </tr>\n",
       "  </tbody>\n",
       "</table>\n",
       "</div>"
      ],
      "text/plain": [
       "   duration          start_date            end_date  start_station_number  \\\n",
       "0    301295 2016-03-31 23:59:00 2016-04-01 00:04:00                 31280   \n",
       "1    557887 2016-03-31 23:59:00 2016-04-01 00:08:00                 31275   \n",
       "2    555944 2016-03-31 23:59:00 2016-04-01 00:08:00                 31101   \n",
       "3    766916 2016-03-31 23:57:00 2016-04-01 00:09:00                 31226   \n",
       "4    139656 2016-03-31 23:57:00 2016-03-31 23:59:00                 31011   \n",
       "\n",
       "                    start_station  end_station_number  \\\n",
       "0                  11th & S St NW               31506   \n",
       "1  New Hampshire Ave & 24th St NW               31114   \n",
       "2                  14th & V St NW               31221   \n",
       "3      34th St & Wisconsin Ave NW               31214   \n",
       "4               23rd & Crystal Dr               31009   \n",
       "\n",
       "                 end_station    bike member_type  \n",
       "0  1st & Rhode Island Ave NW  W00022  Registered  \n",
       "1   18th St & Wyoming Ave NW  W01294  Registered  \n",
       "2             18th & M St NW  W01416  Registered  \n",
       "3      17th & Corcoran St NW  W01090  Registered  \n",
       "4          27th & Crystal Dr  W21934  Registered  "
      ]
     },
     "execution_count": 11,
     "metadata": {},
     "output_type": "execute_result"
    }
   ],
   "source": [
    "df.head()"
   ]
  },
  {
   "cell_type": "markdown",
   "metadata": {},
   "source": [
    "# two ways to return rows with NULL value in any of the columns"
   ]
  },
  {
   "cell_type": "code",
   "execution_count": 111,
   "metadata": {
    "collapsed": false
   },
   "outputs": [
    {
     "data": {
      "text/html": [
       "<div>\n",
       "<table border=\"1\" class=\"dataframe\">\n",
       "  <thead>\n",
       "    <tr style=\"text-align: right;\">\n",
       "      <th></th>\n",
       "      <th>duration</th>\n",
       "      <th>start_date</th>\n",
       "      <th>end_date</th>\n",
       "      <th>start_station_number</th>\n",
       "      <th>start_station</th>\n",
       "      <th>end_station_number</th>\n",
       "      <th>end_station</th>\n",
       "      <th>bike</th>\n",
       "      <th>member_type</th>\n",
       "    </tr>\n",
       "  </thead>\n",
       "  <tbody>\n",
       "  </tbody>\n",
       "</table>\n",
       "</div>"
      ],
      "text/plain": [
       "Empty DataFrame\n",
       "Columns: [duration, start_date, end_date, start_station_number, start_station, end_station_number, end_station, bike, member_type]\n",
       "Index: []"
      ]
     },
     "execution_count": 111,
     "metadata": {},
     "output_type": "execute_result"
    }
   ],
   "source": [
    "from functools import reduce\n",
    "null = df[df.isnull().any(axis = 1)]\n",
    "null = df[reduce(lambda x, y: x | y, df.isnull().values.T)]"
   ]
  },
  {
   "cell_type": "code",
   "execution_count": 39,
   "metadata": {
    "collapsed": false
   },
   "outputs": [],
   "source": [
    "def parse_duration(x):\n",
    "    h, m, s = x.split(\" \")\n",
    "    h = int(h.replace(\"h\", \"\"))\n",
    "    m = int(m.replace(\"min.\", \"\")) #.replace(\"m\", \"\")\n",
    "    s = int(s.replace(\"sec.\", \"\")) #.replace(\"s\", \"\")\n",
    "    \n",
    "    total_seconds = h * 3600 + m * 60 + s\n",
    "    total_milliseconds = 1000 * total_seconds\n",
    "    \n",
    "    return total_milliseconds"
   ]
  },
  {
   "cell_type": "code",
   "execution_count": 53,
   "metadata": {
    "collapsed": false
   },
   "outputs": [],
   "source": [
    "read_bikeshare_data(2015, 1)\n",
    "read_bikeshare_data(2015, 2)\n",
    "read_bikeshare_data(2015, 3)\n",
    "read_bikeshare_data(2015, 4)\n",
    "read_bikeshare_data(2016, 1)\n",
    "None "
   ]
  },
  {
   "cell_type": "code",
   "execution_count": 48,
   "metadata": {
    "collapsed": true
   },
   "outputs": [],
   "source": [
    "df_2015_q1 = read_bikeshare_data(2015, 1)\n",
    "df_2015_q2 = read_bikeshare_data(2015, 2)\n",
    "df_2015_q3 = read_bikeshare_data(2015, 3)\n",
    "df_2015_q4 = read_bikeshare_data(2015, 4)\n",
    "# df_2016_q1 = read_bikeshare_data(2016, 1)"
   ]
  },
  {
   "cell_type": "code",
   "execution_count": 49,
   "metadata": {
    "collapsed": true
   },
   "outputs": [],
   "source": [
    "df2015 = df_2015_q1.append([df_2015_q2, df_2015_q3, df_2015_q4], ignore_index=True)"
   ]
  },
  {
   "cell_type": "code",
   "execution_count": 42,
   "metadata": {
    "collapsed": false
   },
   "outputs": [
    {
     "data": {
      "text/html": [
       "<div>\n",
       "<table border=\"1\" class=\"dataframe\">\n",
       "  <thead>\n",
       "    <tr style=\"text-align: right;\">\n",
       "      <th></th>\n",
       "      <th>duration</th>\n",
       "      <th>start_date</th>\n",
       "      <th>end_date</th>\n",
       "      <th>start_station_number</th>\n",
       "      <th>start_station</th>\n",
       "      <th>end_station_number</th>\n",
       "      <th>end_station</th>\n",
       "      <th>bike</th>\n",
       "      <th>member_type</th>\n",
       "    </tr>\n",
       "  </thead>\n",
       "  <tbody>\n",
       "    <tr>\n",
       "      <th>0</th>\n",
       "      <td>257866</td>\n",
       "      <td>2015-07-01</td>\n",
       "      <td>2015-07-01 00:04:00</td>\n",
       "      <td>31116</td>\n",
       "      <td>California St &amp; Florida Ave NW</td>\n",
       "      <td>31117</td>\n",
       "      <td>15th &amp; Euclid St  NW</td>\n",
       "      <td>W21516</td>\n",
       "      <td>Registered</td>\n",
       "    </tr>\n",
       "  </tbody>\n",
       "</table>\n",
       "</div>"
      ],
      "text/plain": [
       "   duration start_date            end_date  start_station_number  \\\n",
       "0    257866 2015-07-01 2015-07-01 00:04:00                 31116   \n",
       "\n",
       "                    start_station  end_station_number           end_station  \\\n",
       "0  California St & Florida Ave NW               31117  15th & Euclid St  NW   \n",
       "\n",
       "     bike member_type  \n",
       "0  W21516  Registered  "
      ]
     },
     "metadata": {},
     "output_type": "display_data"
    },
    {
     "data": {
      "text/html": [
       "<div>\n",
       "<table border=\"1\" class=\"dataframe\">\n",
       "  <thead>\n",
       "    <tr style=\"text-align: right;\">\n",
       "      <th></th>\n",
       "      <th>duration</th>\n",
       "      <th>start_date</th>\n",
       "      <th>end_date</th>\n",
       "      <th>start_station_number</th>\n",
       "      <th>start_station</th>\n",
       "      <th>end_station_number</th>\n",
       "      <th>end_station</th>\n",
       "      <th>bike</th>\n",
       "      <th>member_type</th>\n",
       "    </tr>\n",
       "  </thead>\n",
       "  <tbody>\n",
       "    <tr>\n",
       "      <th>0</th>\n",
       "      <td>166050</td>\n",
       "      <td>2015-10-01 00:01:00</td>\n",
       "      <td>2015-10-01 00:04:00</td>\n",
       "      <td>31602</td>\n",
       "      <td>Park Rd &amp; Holmead Pl NW</td>\n",
       "      <td>31105</td>\n",
       "      <td>14th &amp; Harvard St NW</td>\n",
       "      <td>W21109</td>\n",
       "      <td>Registered</td>\n",
       "    </tr>\n",
       "  </tbody>\n",
       "</table>\n",
       "</div>"
      ],
      "text/plain": [
       "   duration          start_date            end_date  start_station_number  \\\n",
       "0    166050 2015-10-01 00:01:00 2015-10-01 00:04:00                 31602   \n",
       "\n",
       "             start_station  end_station_number           end_station    bike  \\\n",
       "0  Park Rd & Holmead Pl NW               31105  14th & Harvard St NW  W21109   \n",
       "\n",
       "  member_type  \n",
       "0  Registered  "
      ]
     },
     "metadata": {},
     "output_type": "display_data"
    },
    {
     "data": {
      "text/html": [
       "<div>\n",
       "<table border=\"1\" class=\"dataframe\">\n",
       "  <thead>\n",
       "    <tr style=\"text-align: right;\">\n",
       "      <th></th>\n",
       "      <th>duration</th>\n",
       "      <th>start_date</th>\n",
       "      <th>end_date</th>\n",
       "      <th>start_station_number</th>\n",
       "      <th>start_station</th>\n",
       "      <th>end_station_number</th>\n",
       "      <th>end_station</th>\n",
       "      <th>bike</th>\n",
       "      <th>member_type</th>\n",
       "    </tr>\n",
       "  </thead>\n",
       "  <tbody>\n",
       "    <tr>\n",
       "      <th>0</th>\n",
       "      <td>301295</td>\n",
       "      <td>2016-03-31 23:59:00</td>\n",
       "      <td>2016-04-01 00:04:00</td>\n",
       "      <td>31280</td>\n",
       "      <td>11th &amp; S St NW</td>\n",
       "      <td>31506</td>\n",
       "      <td>1st &amp; Rhode Island Ave NW</td>\n",
       "      <td>W00022</td>\n",
       "      <td>Registered</td>\n",
       "    </tr>\n",
       "  </tbody>\n",
       "</table>\n",
       "</div>"
      ],
      "text/plain": [
       "   duration          start_date            end_date  start_station_number  \\\n",
       "0    301295 2016-03-31 23:59:00 2016-04-01 00:04:00                 31280   \n",
       "\n",
       "    start_station  end_station_number                end_station    bike  \\\n",
       "0  11th & S St NW               31506  1st & Rhode Island Ave NW  W00022   \n",
       "\n",
       "  member_type  \n",
       "0  Registered  "
      ]
     },
     "metadata": {},
     "output_type": "display_data"
    }
   ],
   "source": [
    "display(df_2015_q3.head(1))\n",
    "display(df_2015_q4.head(1))\n",
    "display(df_2016_q1.head(1))"
   ]
  },
  {
   "cell_type": "code",
   "execution_count": 43,
   "metadata": {
    "collapsed": true
   },
   "outputs": [],
   "source": [
    "dfs = [df_2015_q3, df_2015_q4, df_2016_q1]"
   ]
  },
  {
   "cell_type": "code",
   "execution_count": 44,
   "metadata": {
    "collapsed": false
   },
   "outputs": [
    {
     "name": "stdout",
     "output_type": "stream",
     "text": [
      "1056366 observations\n"
     ]
    },
    {
     "data": {
      "text/html": [
       "<div>\n",
       "<table border=\"1\" class=\"dataframe\">\n",
       "  <thead>\n",
       "    <tr style=\"text-align: right;\">\n",
       "      <th></th>\n",
       "      <th>duration</th>\n",
       "      <th>start_date</th>\n",
       "      <th>end_date</th>\n",
       "      <th>start_station_number</th>\n",
       "      <th>start_station</th>\n",
       "      <th>end_station_number</th>\n",
       "      <th>end_station</th>\n",
       "      <th>bike</th>\n",
       "      <th>member_type</th>\n",
       "    </tr>\n",
       "  </thead>\n",
       "  <tbody>\n",
       "    <tr>\n",
       "      <th>0</th>\n",
       "      <td>257866</td>\n",
       "      <td>2015-07-01</td>\n",
       "      <td>2015-07-01 00:04:00</td>\n",
       "      <td>31116</td>\n",
       "      <td>California St &amp; Florida Ave NW</td>\n",
       "      <td>31117</td>\n",
       "      <td>15th &amp; Euclid St  NW</td>\n",
       "      <td>W21516</td>\n",
       "      <td>Registered</td>\n",
       "    </tr>\n",
       "  </tbody>\n",
       "</table>\n",
       "</div>"
      ],
      "text/plain": [
       "   duration start_date            end_date  start_station_number  \\\n",
       "0    257866 2015-07-01 2015-07-01 00:04:00                 31116   \n",
       "\n",
       "                    start_station  end_station_number           end_station  \\\n",
       "0  California St & Florida Ave NW               31117  15th & Euclid St  NW   \n",
       "\n",
       "     bike member_type  \n",
       "0  W21516  Registered  "
      ]
     },
     "metadata": {},
     "output_type": "display_data"
    },
    {
     "name": "stdout",
     "output_type": "stream",
     "text": [
      "706004 observations\n"
     ]
    },
    {
     "data": {
      "text/html": [
       "<div>\n",
       "<table border=\"1\" class=\"dataframe\">\n",
       "  <thead>\n",
       "    <tr style=\"text-align: right;\">\n",
       "      <th></th>\n",
       "      <th>duration</th>\n",
       "      <th>start_date</th>\n",
       "      <th>end_date</th>\n",
       "      <th>start_station_number</th>\n",
       "      <th>start_station</th>\n",
       "      <th>end_station_number</th>\n",
       "      <th>end_station</th>\n",
       "      <th>bike</th>\n",
       "      <th>member_type</th>\n",
       "    </tr>\n",
       "  </thead>\n",
       "  <tbody>\n",
       "    <tr>\n",
       "      <th>0</th>\n",
       "      <td>166050</td>\n",
       "      <td>2015-10-01 00:01:00</td>\n",
       "      <td>2015-10-01 00:04:00</td>\n",
       "      <td>31602</td>\n",
       "      <td>Park Rd &amp; Holmead Pl NW</td>\n",
       "      <td>31105</td>\n",
       "      <td>14th &amp; Harvard St NW</td>\n",
       "      <td>W21109</td>\n",
       "      <td>Registered</td>\n",
       "    </tr>\n",
       "  </tbody>\n",
       "</table>\n",
       "</div>"
      ],
      "text/plain": [
       "   duration          start_date            end_date  start_station_number  \\\n",
       "0    166050 2015-10-01 00:01:00 2015-10-01 00:04:00                 31602   \n",
       "\n",
       "             start_station  end_station_number           end_station    bike  \\\n",
       "0  Park Rd & Holmead Pl NW               31105  14th & Harvard St NW  W21109   \n",
       "\n",
       "  member_type  \n",
       "0  Registered  "
      ]
     },
     "metadata": {},
     "output_type": "display_data"
    },
    {
     "name": "stdout",
     "output_type": "stream",
     "text": [
      "552399 observations\n"
     ]
    },
    {
     "data": {
      "text/html": [
       "<div>\n",
       "<table border=\"1\" class=\"dataframe\">\n",
       "  <thead>\n",
       "    <tr style=\"text-align: right;\">\n",
       "      <th></th>\n",
       "      <th>duration</th>\n",
       "      <th>start_date</th>\n",
       "      <th>end_date</th>\n",
       "      <th>start_station_number</th>\n",
       "      <th>start_station</th>\n",
       "      <th>end_station_number</th>\n",
       "      <th>end_station</th>\n",
       "      <th>bike</th>\n",
       "      <th>member_type</th>\n",
       "    </tr>\n",
       "  </thead>\n",
       "  <tbody>\n",
       "    <tr>\n",
       "      <th>0</th>\n",
       "      <td>301295</td>\n",
       "      <td>2016-03-31 23:59:00</td>\n",
       "      <td>2016-04-01 00:04:00</td>\n",
       "      <td>31280</td>\n",
       "      <td>11th &amp; S St NW</td>\n",
       "      <td>31506</td>\n",
       "      <td>1st &amp; Rhode Island Ave NW</td>\n",
       "      <td>W00022</td>\n",
       "      <td>Registered</td>\n",
       "    </tr>\n",
       "  </tbody>\n",
       "</table>\n",
       "</div>"
      ],
      "text/plain": [
       "   duration          start_date            end_date  start_station_number  \\\n",
       "0    301295 2016-03-31 23:59:00 2016-04-01 00:04:00                 31280   \n",
       "\n",
       "    start_station  end_station_number                end_station    bike  \\\n",
       "0  11th & S St NW               31506  1st & Rhode Island Ave NW  W00022   \n",
       "\n",
       "  member_type  \n",
       "0  Registered  "
      ]
     },
     "metadata": {},
     "output_type": "display_data"
    }
   ],
   "source": [
    "for df in dfs:\n",
    "    print(len(df), \"observations\")\n",
    "    display(df.head(1))"
   ]
  },
  {
   "cell_type": "code",
   "execution_count": 50,
   "metadata": {
    "collapsed": false
   },
   "outputs": [
    {
     "data": {
      "text/plain": [
       "2314769"
      ]
     },
     "execution_count": 50,
     "metadata": {},
     "output_type": "execute_result"
    }
   ],
   "source": [
    "df = pd.concat(dfs, axis=0, ignore_index=True)\n",
    "len(df)"
   ]
  },
  {
   "cell_type": "code",
   "execution_count": 52,
   "metadata": {
    "collapsed": false
   },
   "outputs": [
    {
     "data": {
      "text/html": [
       "<div>\n",
       "<table border=\"1\" class=\"dataframe\">\n",
       "  <thead>\n",
       "    <tr style=\"text-align: right;\">\n",
       "      <th></th>\n",
       "      <th>duration</th>\n",
       "      <th>start_date</th>\n",
       "      <th>end_date</th>\n",
       "      <th>start_station_number</th>\n",
       "      <th>start_station</th>\n",
       "      <th>end_station_number</th>\n",
       "      <th>end_station</th>\n",
       "      <th>bike</th>\n",
       "      <th>member_type</th>\n",
       "    </tr>\n",
       "  </thead>\n",
       "  <tbody>\n",
       "    <tr>\n",
       "      <th>0</th>\n",
       "      <td>257866</td>\n",
       "      <td>2015-07-01 00:00:00</td>\n",
       "      <td>2015-07-01 00:04:00</td>\n",
       "      <td>31116</td>\n",
       "      <td>California St &amp; Florida Ave NW</td>\n",
       "      <td>31117</td>\n",
       "      <td>15th &amp; Euclid St  NW</td>\n",
       "      <td>W21516</td>\n",
       "      <td>Registered</td>\n",
       "    </tr>\n",
       "    <tr>\n",
       "      <th>1</th>\n",
       "      <td>2683934</td>\n",
       "      <td>2015-07-01 00:00:00</td>\n",
       "      <td>2015-07-01 00:45:00</td>\n",
       "      <td>31247</td>\n",
       "      <td>Jefferson Dr &amp; 14th St SW</td>\n",
       "      <td>31247</td>\n",
       "      <td>Jefferson Dr &amp; 14th St SW</td>\n",
       "      <td>W00476</td>\n",
       "      <td>Casual</td>\n",
       "    </tr>\n",
       "    <tr>\n",
       "      <th>2</th>\n",
       "      <td>2349547</td>\n",
       "      <td>2015-07-01 00:02:00</td>\n",
       "      <td>2015-07-01 00:41:00</td>\n",
       "      <td>31247</td>\n",
       "      <td>Jefferson Dr &amp; 14th St SW</td>\n",
       "      <td>31247</td>\n",
       "      <td>Jefferson Dr &amp; 14th St SW</td>\n",
       "      <td>W20384</td>\n",
       "      <td>Casual</td>\n",
       "    </tr>\n",
       "    <tr>\n",
       "      <th>3</th>\n",
       "      <td>826571</td>\n",
       "      <td>2015-07-01 00:02:00</td>\n",
       "      <td>2015-07-01 00:16:00</td>\n",
       "      <td>31229</td>\n",
       "      <td>New Hampshire Ave &amp; T St NW</td>\n",
       "      <td>31602</td>\n",
       "      <td>Park Rd &amp; Holmead Pl NW</td>\n",
       "      <td>W00972</td>\n",
       "      <td>Registered</td>\n",
       "    </tr>\n",
       "    <tr>\n",
       "      <th>4</th>\n",
       "      <td>123046</td>\n",
       "      <td>2015-07-01 00:04:00</td>\n",
       "      <td>2015-07-01 00:06:00</td>\n",
       "      <td>31610</td>\n",
       "      <td>Eastern Market / 7th &amp; North Carolina Ave SE</td>\n",
       "      <td>31269</td>\n",
       "      <td>3rd St &amp; Pennsylvania Ave SE</td>\n",
       "      <td>W21565</td>\n",
       "      <td>Registered</td>\n",
       "    </tr>\n",
       "  </tbody>\n",
       "</table>\n",
       "</div>"
      ],
      "text/plain": [
       "   duration          start_date            end_date  start_station_number  \\\n",
       "0    257866 2015-07-01 00:00:00 2015-07-01 00:04:00                 31116   \n",
       "1   2683934 2015-07-01 00:00:00 2015-07-01 00:45:00                 31247   \n",
       "2   2349547 2015-07-01 00:02:00 2015-07-01 00:41:00                 31247   \n",
       "3    826571 2015-07-01 00:02:00 2015-07-01 00:16:00                 31229   \n",
       "4    123046 2015-07-01 00:04:00 2015-07-01 00:06:00                 31610   \n",
       "\n",
       "                                  start_station  end_station_number  \\\n",
       "0                California St & Florida Ave NW               31117   \n",
       "1                     Jefferson Dr & 14th St SW               31247   \n",
       "2                     Jefferson Dr & 14th St SW               31247   \n",
       "3                   New Hampshire Ave & T St NW               31602   \n",
       "4  Eastern Market / 7th & North Carolina Ave SE               31269   \n",
       "\n",
       "                    end_station    bike member_type  \n",
       "0          15th & Euclid St  NW  W21516  Registered  \n",
       "1     Jefferson Dr & 14th St SW  W00476      Casual  \n",
       "2     Jefferson Dr & 14th St SW  W20384      Casual  \n",
       "3       Park Rd & Holmead Pl NW  W00972  Registered  \n",
       "4  3rd St & Pennsylvania Ave SE  W21565  Registered  "
      ]
     },
     "execution_count": 52,
     "metadata": {},
     "output_type": "execute_result"
    }
   ],
   "source": [
    "df.head()"
   ]
  },
  {
   "cell_type": "code",
   "execution_count": 54,
   "metadata": {
    "collapsed": false
   },
   "outputs": [
    {
     "data": {
      "text/plain": [
       "<matplotlib.axes._subplots.AxesSubplot at 0x140055940>"
      ]
     },
     "execution_count": 54,
     "metadata": {},
     "output_type": "execute_result"
    },
    {
     "data": {
      "image/png": "[encoded data removed]",
      "text/plain": [
       "<matplotlib.figure.Figure at 0x140055128>"
      ]
     },
     "metadata": {},
     "output_type": "display_data"
    }
   ],
   "source": [
    "df[(df.start_date.dt.dayofweek>=5)].start_date.dt.hour.value_counts().sort_index().plot()\n",
    "df[(df.start_date.dt.dayofweek<5)].start_date.dt.hour.value_counts().sort_index().plot()"
   ]
  },
  {
   "cell_type": "code",
   "execution_count": 12,
   "metadata": {
    "collapsed": false
   },
   "outputs": [
    {
     "data": {
      "text/html": [
       "<div>\n",
       "<table border=\"1\" class=\"dataframe\">\n",
       "  <thead>\n",
       "    <tr style=\"text-align: right;\">\n",
       "      <th></th>\n",
       "      <th>duration</th>\n",
       "      <th>start_date</th>\n",
       "      <th>end_date</th>\n",
       "      <th>start_station_number</th>\n",
       "      <th>start_station</th>\n",
       "      <th>end_station_number</th>\n",
       "      <th>end_station</th>\n",
       "      <th>bike</th>\n",
       "      <th>member_type</th>\n",
       "    </tr>\n",
       "  </thead>\n",
       "  <tbody>\n",
       "    <tr>\n",
       "      <th>0</th>\n",
       "      <td>301295</td>\n",
       "      <td>2016-03-31 23:59:00</td>\n",
       "      <td>2016-04-01 00:04:00</td>\n",
       "      <td>31280</td>\n",
       "      <td>11th &amp; S St NW</td>\n",
       "      <td>31506</td>\n",
       "      <td>1st &amp; Rhode Island Ave NW</td>\n",
       "      <td>W00022</td>\n",
       "      <td>Registered</td>\n",
       "    </tr>\n",
       "    <tr>\n",
       "      <th>1</th>\n",
       "      <td>557887</td>\n",
       "      <td>2016-03-31 23:59:00</td>\n",
       "      <td>2016-04-01 00:08:00</td>\n",
       "      <td>31275</td>\n",
       "      <td>New Hampshire Ave &amp; 24th St NW</td>\n",
       "      <td>31114</td>\n",
       "      <td>18th St &amp; Wyoming Ave NW</td>\n",
       "      <td>W01294</td>\n",
       "      <td>Registered</td>\n",
       "    </tr>\n",
       "    <tr>\n",
       "      <th>2</th>\n",
       "      <td>555944</td>\n",
       "      <td>2016-03-31 23:59:00</td>\n",
       "      <td>2016-04-01 00:08:00</td>\n",
       "      <td>31101</td>\n",
       "      <td>14th &amp; V St NW</td>\n",
       "      <td>31221</td>\n",
       "      <td>18th &amp; M St NW</td>\n",
       "      <td>W01416</td>\n",
       "      <td>Registered</td>\n",
       "    </tr>\n",
       "    <tr>\n",
       "      <th>3</th>\n",
       "      <td>766916</td>\n",
       "      <td>2016-03-31 23:57:00</td>\n",
       "      <td>2016-04-01 00:09:00</td>\n",
       "      <td>31226</td>\n",
       "      <td>34th St &amp; Wisconsin Ave NW</td>\n",
       "      <td>31214</td>\n",
       "      <td>17th &amp; Corcoran St NW</td>\n",
       "      <td>W01090</td>\n",
       "      <td>Registered</td>\n",
       "    </tr>\n",
       "    <tr>\n",
       "      <th>4</th>\n",
       "      <td>139656</td>\n",
       "      <td>2016-03-31 23:57:00</td>\n",
       "      <td>2016-03-31 23:59:00</td>\n",
       "      <td>31011</td>\n",
       "      <td>23rd &amp; Crystal Dr</td>\n",
       "      <td>31009</td>\n",
       "      <td>27th &amp; Crystal Dr</td>\n",
       "      <td>W21934</td>\n",
       "      <td>Registered</td>\n",
       "    </tr>\n",
       "  </tbody>\n",
       "</table>\n",
       "</div>"
      ],
      "text/plain": [
       "   duration          start_date            end_date  start_station_number  \\\n",
       "0    301295 2016-03-31 23:59:00 2016-04-01 00:04:00                 31280   \n",
       "1    557887 2016-03-31 23:59:00 2016-04-01 00:08:00                 31275   \n",
       "2    555944 2016-03-31 23:59:00 2016-04-01 00:08:00                 31101   \n",
       "3    766916 2016-03-31 23:57:00 2016-04-01 00:09:00                 31226   \n",
       "4    139656 2016-03-31 23:57:00 2016-03-31 23:59:00                 31011   \n",
       "\n",
       "                    start_station  end_station_number  \\\n",
       "0                  11th & S St NW               31506   \n",
       "1  New Hampshire Ave & 24th St NW               31114   \n",
       "2                  14th & V St NW               31221   \n",
       "3      34th St & Wisconsin Ave NW               31214   \n",
       "4               23rd & Crystal Dr               31009   \n",
       "\n",
       "                 end_station    bike member_type  \n",
       "0  1st & Rhode Island Ave NW  W00022  Registered  \n",
       "1   18th St & Wyoming Ave NW  W01294  Registered  \n",
       "2             18th & M St NW  W01416  Registered  \n",
       "3      17th & Corcoran St NW  W01090  Registered  \n",
       "4          27th & Crystal Dr  W21934  Registered  "
      ]
     },
     "execution_count": 12,
     "metadata": {},
     "output_type": "execute_result"
    }
   ],
   "source": [
    "df.head()"
   ]
  },
  {
   "cell_type": "markdown",
   "metadata": {},
   "source": [
    "# checking average duration for casual and registered users"
   ]
  },
  {
   "cell_type": "code",
   "execution_count": 21,
   "metadata": {
    "collapsed": false
   },
   "outputs": [
    {
     "data": {
      "text/plain": [
       "<matplotlib.axes._subplots.AxesSubplot at 0x120ca7860>"
      ]
     },
     "execution_count": 21,
     "metadata": {},
     "output_type": "execute_result"
    },
    {
     "data": {
      "image/png": "[encoded data removed]",
      "text/plain": [
       "<matplotlib.figure.Figure at 0x11e3de668>"
      ]
     },
     "metadata": {},
     "output_type": "display_data"
    }
   ],
   "source": [
    "(df.groupby(\"member_type\")['duration'].mean()/(60 * 1000)).plot(kind = 'bar')"
   ]
  },
  {
   "cell_type": "markdown",
   "metadata": {},
   "source": [
    "# Average duration for each day of the week"
   ]
  },
  {
   "cell_type": "code",
   "execution_count": 30,
   "metadata": {
    "collapsed": false
   },
   "outputs": [
    {
     "data": {
      "text/plain": [
       "<matplotlib.axes._subplots.AxesSubplot at 0x124dfe518>"
      ]
     },
     "execution_count": 30,
     "metadata": {},
     "output_type": "execute_result"
    },
    {
     "data": {
      "image/png": "[encoded data removed]",
      "text/plain": [
       "<matplotlib.figure.Figure at 0x124df9ef0>"
      ]
     },
     "metadata": {},
     "output_type": "display_data"
    }
   ],
   "source": [
    "(df.groupby(df.start_date.dt.dayofweek)[\"duration\"].mean()/(60 * 1000)).plot(kind = \"bar\")"
   ]
  },
  {
   "cell_type": "markdown",
   "metadata": {},
   "source": [
    "# the amount of casual users for each day of the week\n"
   ]
  },
  {
   "cell_type": "code",
   "execution_count": 33,
   "metadata": {
    "collapsed": false
   },
   "outputs": [
    {
     "data": {
      "text/plain": [
       "<matplotlib.axes._subplots.AxesSubplot at 0x120ad5a90>"
      ]
     },
     "execution_count": 33,
     "metadata": {},
     "output_type": "execute_result"
    },
    {
     "data": {
      "image/png": "[encoded data removed]",
      "text/plain": [
       "<matplotlib.figure.Figure at 0x120aae128>"
      ]
     },
     "metadata": {},
     "output_type": "display_data"
    }
   ],
   "source": [
    "df[df.member_type == \"Casual\"].start_date.dt.dayofweek.value_counts().sort_index().plot(kind = \"bar\")"
   ]
  },
  {
   "cell_type": "markdown",
   "metadata": {},
   "source": [
    "# daily use of bikes trend report"
   ]
  },
  {
   "cell_type": "code",
   "execution_count": 47,
   "metadata": {
    "collapsed": false
   },
   "outputs": [
    {
     "data": {
      "text/plain": [
       "<matplotlib.legend.Legend at 0x1255fac18>"
      ]
     },
     "execution_count": 47,
     "metadata": {},
     "output_type": "execute_result"
    },
    {
     "data": {
      "image/png": "[encoded data removed]",
      "text/plain": [
       "<matplotlib.figure.Figure at 0x11f6287f0>"
      ]
     },
     "metadata": {},
     "output_type": "display_data"
    }
   ],
   "source": [
    "groups = df.groupby([df.start_date.dt.date, df.member_type])\n",
    "groups.size().unstack().plot()\n",
    "plt.legend(loc = 'best')"
   ]
  },
  {
   "cell_type": "markdown",
   "metadata": {},
   "source": [
    "# duration relation with hour"
   ]
  },
  {
   "cell_type": "code",
   "execution_count": 99,
   "metadata": {
    "collapsed": false
   },
   "outputs": [
    {
     "data": {
      "text/plain": [
       "<matplotlib.axes._subplots.AxesSubplot at 0x120c543c8>"
      ]
     },
     "execution_count": 99,
     "metadata": {},
     "output_type": "execute_result"
    },
    {
     "data": {
      "image/png": "[encoded data removed]",
      "text/plain": [
       "<matplotlib.figure.Figure at 0x139b31a58>"
      ]
     },
     "metadata": {},
     "output_type": "display_data"
    }
   ],
   "source": [
    "(df.groupby(df.start_date.dt.hour)['duration'].mean()/(60 * 1000)).plot(kind = \"bar\")"
   ]
  },
  {
   "cell_type": "code",
   "execution_count": 103,
   "metadata": {
    "collapsed": false
   },
   "outputs": [
    {
     "data": {
      "text/plain": [
       "<matplotlib.axes._subplots.AxesSubplot at 0x139f2d470>"
      ]
     },
     "execution_count": 103,
     "metadata": {},
     "output_type": "execute_result"
    },
    {
     "data": {
      "image/png": "[encoded data removed]",
      "text/plain": [
       "<matplotlib.figure.Figure at 0x13a27dba8>"
      ]
     },
     "metadata": {},
     "output_type": "display_data"
    }
   ],
   "source": [
    "import seaborn as sb\n",
    "sb.violinplot(x = \"member_type\", y = df.duration/(60 * 1000) , data = df)"
   ]
  },
  {
   "cell_type": "markdown",
   "metadata": {},
   "source": [
    "# monthly usage plot of 2015"
   ]
  },
  {
   "cell_type": "code",
   "execution_count": 53,
   "metadata": {
    "collapsed": false
   },
   "outputs": [
    {
     "data": {
      "text/plain": [
       "<matplotlib.axes._subplots.AxesSubplot at 0x12479c208>"
      ]
     },
     "execution_count": 53,
     "metadata": {},
     "output_type": "execute_result"
    },
    {
     "data": {
      "image/png": "[encoded data removed]",
      "text/plain": [
       "<matplotlib.figure.Figure at 0x13a491860>"
      ]
     },
     "metadata": {},
     "output_type": "display_data"
    }
   ],
   "source": [
    "df2015.start_date.dt.month.value_counts().sort_index().plot(kind = \"bar\")"
   ]
  },
  {
   "cell_type": "markdown",
   "metadata": {},
   "source": [
    "# Top 10 long duration start stations"
   ]
  },
  {
   "cell_type": "code",
   "execution_count": 71,
   "metadata": {
    "collapsed": false
   },
   "outputs": [
    {
     "data": {
      "text/plain": [
       "<matplotlib.axes._subplots.AxesSubplot at 0x13b169400>"
      ]
     },
     "execution_count": 71,
     "metadata": {},
     "output_type": "execute_result"
    },
    {
     "data": {
      "image/png": "[encoded data removed]",
      "text/plain": [
       "<matplotlib.figure.Figure at 0x124a080b8>"
      ]
     },
     "metadata": {},
     "output_type": "display_data"
    }
   ],
   "source": [
    "groups = (df.groupby(df.start_station).duration.mean()/(60 * 1000))\n",
    "groups.sort_values(ascending=False)[:10].plot(kind = \"bar\")"
   ]
  },
  {
   "cell_type": "code",
   "execution_count": 76,
   "metadata": {
    "collapsed": false
   },
   "outputs": [],
   "source": [
    "top = groups.sort_values(ascending=False).index[0]"
   ]
  },
  {
   "cell_type": "code",
   "execution_count": 81,
   "metadata": {
    "collapsed": false
   },
   "outputs": [
    {
     "data": {
      "text/plain": [
       "(87, 9)"
      ]
     },
     "execution_count": 81,
     "metadata": {},
     "output_type": "execute_result"
    }
   ],
   "source": [
    "long_stat = df[df.start_station == top]\n",
    "long_stat.shape"
   ]
  },
  {
   "cell_type": "markdown",
   "metadata": {},
   "source": [
    "# Top 10 popular stations for casual riders"
   ]
  },
  {
   "cell_type": "code",
   "execution_count": 27,
   "metadata": {
    "collapsed": false
   },
   "outputs": [
    {
     "data": {
      "text/plain": [
       "Lincoln Memorial                                    7272\n",
       "Jefferson Dr & 14th St SW                           5910\n",
       "Jefferson Memorial                                  2964\n",
       "Smithsonian / Jefferson Dr & 12th St SW             2922\n",
       "Maryland & Independence Ave SW                      2052\n",
       "Ohio Dr & West Basin Dr SW / MLK & FDR Memorials    1972\n",
       "New York Ave & 15th St NW                           1956\n",
       "Constitution Ave & 2nd St NW/DOL                    1630\n",
       "19th St & Constitution Ave NW                       1373\n",
       "10th St & Constitution Ave NW                       1343\n",
       "Name: start_station, dtype: int64"
      ]
     },
     "execution_count": 27,
     "metadata": {},
     "output_type": "execute_result"
    }
   ],
   "source": [
    "df[df.member_type == \"Casual\"].start_station.value_counts()[:10]"
   ]
  },
  {
   "cell_type": "code",
   "execution_count": 28,
   "metadata": {
    "collapsed": false
   },
   "outputs": [
    {
     "data": {
      "text/plain": [
       "Columbus Circle / Union Station                        12085\n",
       "Massachusetts Ave & Dupont Circle NW                    8262\n",
       "15th & P St NW                                          7007\n",
       "Thomas Circle                                           6632\n",
       "New Hampshire Ave & T St NW                             6241\n",
       "14th & V St NW                                          6227\n",
       "17th & Corcoran St NW                                   5249\n",
       "Eastern Market Metro / Pennsylvania Ave & 7th St SE     5176\n",
       "5th & K St NW                                           5168\n",
       "14th & R St NW                                          4492\n",
       "Name: start_station, dtype: int64"
      ]
     },
     "execution_count": 28,
     "metadata": {},
     "output_type": "execute_result"
    }
   ],
   "source": [
    "df[df.member_type == \"Registered\"].start_station.value_counts()[:10]"
   ]
  },
  {
   "cell_type": "code",
   "execution_count": 23,
   "metadata": {
    "collapsed": false
   },
   "outputs": [
    {
     "data": {
      "text/plain": [
       "Crabbs Branch Way & Redland Rd                         1\n",
       "Broschart & Blackwell Rd                               2\n",
       "Nannie Helen Burroughs Ave & 49th St NE                3\n",
       "Needwood Rd & Eagles Head Ct                           4\n",
       "Traville Gateway Dr & Gudelsky Dr                      7\n",
       "Nannie Helen Burroughs & Minnesota Ave NE              8\n",
       "Benning Rd & East Capitol St NE / Benning Rd Metro     9\n",
       "Key West Ave & Siesta Key Way                         10\n",
       "Frederick Ave & Horners Ln                            10\n",
       "Deanwood Rec Center                                   11\n",
       "Name: start_station, dtype: int64"
      ]
     },
     "execution_count": 23,
     "metadata": {},
     "output_type": "execute_result"
    }
   ],
   "source": [
    "rare = df.start_station.value_counts(ascending=True)[:10]\n",
    "rare"
   ]
  },
  {
   "cell_type": "code",
   "execution_count": 25,
   "metadata": {
    "collapsed": false
   },
   "outputs": [
    {
     "data": {
      "text/plain": [
       "Columbus Circle / Union Station                        13120\n",
       "Massachusetts Ave & Dupont Circle NW                    9560\n",
       "Lincoln Memorial                                        9388\n",
       "Jefferson Dr & 14th St SW                               8138\n",
       "Thomas Circle                                           7479\n",
       "15th & P St NW                                          7401\n",
       "14th & V St NW                                          6568\n",
       "New Hampshire Ave & T St NW                             6491\n",
       "Eastern Market Metro / Pennsylvania Ave & 7th St SE     5649\n",
       "17th & Corcoran St NW                                   5514\n",
       "Name: start_station, dtype: int64"
      ]
     },
     "execution_count": 25,
     "metadata": {},
     "output_type": "execute_result"
    }
   ],
   "source": [
    "most = df.start_station.value_counts()[:10]\n",
    "most"
   ]
  },
  {
   "cell_type": "code",
   "execution_count": 114,
   "metadata": {
    "collapsed": false
   },
   "outputs": [
    {
     "data": {
      "text/plain": [
       "(552399, 9)"
      ]
     },
     "execution_count": 114,
     "metadata": {},
     "output_type": "execute_result"
    }
   ],
   "source": [
    "df.shape"
   ]
  },
  {
   "cell_type": "code",
   "execution_count": 115,
   "metadata": {
    "collapsed": true
   },
   "outputs": [],
   "source": [
    "dfemma = df.sample(frac=.02)"
   ]
  },
  {
   "cell_type": "code",
   "execution_count": 120,
   "metadata": {
    "collapsed": false
   },
   "outputs": [],
   "source": [
    "dfemma.to_excel(excel_writer = \"Capital_Bike.xls\",sheet_name= \"2016Q1data(random sized)\")"
   ]
  },
  {
   "cell_type": "code",
   "execution_count": 118,
   "metadata": {
    "collapsed": false
   },
   "outputs": [
    {
     "data": {
      "text/plain": [
       "'/Users/jianglongli/Desktop/GA/DAT-DC-12/workspace'"
      ]
     },
     "execution_count": 118,
     "metadata": {},
     "output_type": "execute_result"
    }
   ],
   "source": [
    "pwd"
   ]
  },
  {
   "cell_type": "code",
   "execution_count": 121,
   "metadata": {
    "collapsed": false
   },
   "outputs": [
    {
     "data": {
      "text/plain": [
       "'/Users/jianglongli/Desktop/GA/DAT-DC-12/workspace'"
      ]
     },
     "execution_count": 121,
     "metadata": {},
     "output_type": "execute_result"
    }
   ],
   "source": [
    "pwd"
   ]
  },
  {
   "cell_type": "code",
   "execution_count": null,
   "metadata": {
    "collapsed": true
   },
   "outputs": [],
   "source": []
  }
 ],
 "metadata": {
  "kernelspec": {
   "display_name": "Python 3",
   "language": "python",
   "name": "python3"
  },
  "language_info": {
   "codemirror_mode": {
    "name": "ipython",
    "version": 3
   },
   "file_extension": ".py",
   "mimetype": "text/x-python",
   "name": "python",
   "nbconvert_exporter": "python",
   "pygments_lexer": "ipython3",
   "version": "3.5.1"
  }
 },
 "nbformat": 4,
 "nbformat_minor": 0
}
