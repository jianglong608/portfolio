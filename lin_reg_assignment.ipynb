{
 "cells": [
  {
   "cell_type": "code",
   "execution_count": 2,
   "metadata": {
    "collapsed": false
   },
   "outputs": [
    {
     "data": {
      "text/plain": [
       "(13640, 5)"
      ]
     },
     "execution_count": 2,
     "metadata": {},
     "output_type": "execute_result"
    }
   ],
   "source": [
    "pop.shape"
   ]
  },
  {
   "cell_type": "code",
   "execution_count": 53,
   "metadata": {
    "collapsed": false
   },
   "outputs": [
    {
     "data": {
      "text/plain": [
       "<matplotlib.axes._subplots.AxesSubplot at 0x11729f6a0>"
      ]
     },
     "execution_count": 53,
     "metadata": {},
     "output_type": "execute_result"
    },
    {
     "data": {
      "image/png": "[encoded data removed]",
      "text/plain": [
       "<matplotlib.figure.Figure at 0x116f0d278>"
      ]
     },
     "metadata": {},
     "output_type": "display_data"
    },
    {
     "data": {
      "image/png": "[encoded data removed]",
      "text/plain": [
       "<matplotlib.figure.Figure at 0x116fca908>"
      ]
     },
     "metadata": {},
     "output_type": "display_data"
    }
   ],
   "source": [
    "import pandas as pd\n",
    "import numpy as np\n",
    "%matplotlib inline\n",
    "import matplotlib\n",
    "import matplotlib.pyplot as plt\n",
    "import seaborn as sns\n",
    "\n",
    "pop = pd.read_csv('../data/population.csv', skiprows=4)\n",
    "pop.rename(columns=lambda c: c.lower().replace(' ', '_'), inplace=True)\n",
    "pop.drop(['indicator_name', 'indicator_code','unnamed:_60', '2015'], axis=1, inplace=True)\n",
    "pop = pd.melt(pop, id_vars=['country_name', 'country_code'], var_name='year', value_name='population')\n",
    "pop.year = pd.to_numeric(pop.year)\n",
    "pop['log_pop'] = np.log(pop.population)\n",
    "pop.head()\n",
    "pop[pop.year==2012].log_pop.hist(bins=100)\n",
    "pop[pop.country_name=='United States'].plot(kind='scatter', x='year', y='population')"
   ]
  },
  {
   "cell_type": "code",
   "execution_count": 21,
   "metadata": {
    "collapsed": false
   },
   "outputs": [
    {
     "data": {
      "text/html": [
       "<div>\n",
       "<table border=\"1\" class=\"dataframe\">\n",
       "  <thead>\n",
       "    <tr style=\"text-align: right;\">\n",
       "      <th></th>\n",
       "      <th>country_name</th>\n",
       "      <th>country_code</th>\n",
       "      <th>year</th>\n",
       "      <th>pop</th>\n",
       "    </tr>\n",
       "  </thead>\n",
       "  <tbody>\n",
       "    <tr>\n",
       "      <th>0</th>\n",
       "      <td>Aruba</td>\n",
       "      <td>ABW</td>\n",
       "      <td>1960</td>\n",
       "      <td>5.420800e+04</td>\n",
       "    </tr>\n",
       "    <tr>\n",
       "      <th>1</th>\n",
       "      <td>Andorra</td>\n",
       "      <td>AND</td>\n",
       "      <td>1960</td>\n",
       "      <td>1.341400e+04</td>\n",
       "    </tr>\n",
       "    <tr>\n",
       "      <th>2</th>\n",
       "      <td>Afghanistan</td>\n",
       "      <td>AFG</td>\n",
       "      <td>1960</td>\n",
       "      <td>8.994793e+06</td>\n",
       "    </tr>\n",
       "    <tr>\n",
       "      <th>3</th>\n",
       "      <td>Angola</td>\n",
       "      <td>AGO</td>\n",
       "      <td>1960</td>\n",
       "      <td>5.270844e+06</td>\n",
       "    </tr>\n",
       "    <tr>\n",
       "      <th>4</th>\n",
       "      <td>Albania</td>\n",
       "      <td>ALB</td>\n",
       "      <td>1960</td>\n",
       "      <td>1.608800e+06</td>\n",
       "    </tr>\n",
       "    <tr>\n",
       "      <th>5</th>\n",
       "      <td>Arab World</td>\n",
       "      <td>ARB</td>\n",
       "      <td>1960</td>\n",
       "      <td>9.249590e+07</td>\n",
       "    </tr>\n",
       "    <tr>\n",
       "      <th>6</th>\n",
       "      <td>United Arab Emirates</td>\n",
       "      <td>ARE</td>\n",
       "      <td>1960</td>\n",
       "      <td>9.261200e+04</td>\n",
       "    </tr>\n",
       "    <tr>\n",
       "      <th>7</th>\n",
       "      <td>Argentina</td>\n",
       "      <td>ARG</td>\n",
       "      <td>1960</td>\n",
       "      <td>2.061908e+07</td>\n",
       "    </tr>\n",
       "    <tr>\n",
       "      <th>8</th>\n",
       "      <td>Armenia</td>\n",
       "      <td>ARM</td>\n",
       "      <td>1960</td>\n",
       "      <td>1.867396e+06</td>\n",
       "    </tr>\n",
       "    <tr>\n",
       "      <th>9</th>\n",
       "      <td>American Samoa</td>\n",
       "      <td>ASM</td>\n",
       "      <td>1960</td>\n",
       "      <td>2.001200e+04</td>\n",
       "    </tr>\n",
       "    <tr>\n",
       "      <th>10</th>\n",
       "      <td>Antigua and Barbuda</td>\n",
       "      <td>ATG</td>\n",
       "      <td>1960</td>\n",
       "      <td>5.468100e+04</td>\n",
       "    </tr>\n",
       "    <tr>\n",
       "      <th>11</th>\n",
       "      <td>Australia</td>\n",
       "      <td>AUS</td>\n",
       "      <td>1960</td>\n",
       "      <td>1.027648e+07</td>\n",
       "    </tr>\n",
       "    <tr>\n",
       "      <th>12</th>\n",
       "      <td>Austria</td>\n",
       "      <td>AUT</td>\n",
       "      <td>1960</td>\n",
       "      <td>7.047539e+06</td>\n",
       "    </tr>\n",
       "    <tr>\n",
       "      <th>13</th>\n",
       "      <td>Azerbaijan</td>\n",
       "      <td>AZE</td>\n",
       "      <td>1960</td>\n",
       "      <td>3.897889e+06</td>\n",
       "    </tr>\n",
       "    <tr>\n",
       "      <th>14</th>\n",
       "      <td>Burundi</td>\n",
       "      <td>BDI</td>\n",
       "      <td>1960</td>\n",
       "      <td>2.786740e+06</td>\n",
       "    </tr>\n",
       "    <tr>\n",
       "      <th>15</th>\n",
       "      <td>Belgium</td>\n",
       "      <td>BEL</td>\n",
       "      <td>1960</td>\n",
       "      <td>9.153489e+06</td>\n",
       "    </tr>\n",
       "    <tr>\n",
       "      <th>16</th>\n",
       "      <td>Benin</td>\n",
       "      <td>BEN</td>\n",
       "      <td>1960</td>\n",
       "      <td>2.431620e+06</td>\n",
       "    </tr>\n",
       "    <tr>\n",
       "      <th>17</th>\n",
       "      <td>Burkina Faso</td>\n",
       "      <td>BFA</td>\n",
       "      <td>1960</td>\n",
       "      <td>4.829291e+06</td>\n",
       "    </tr>\n",
       "    <tr>\n",
       "      <th>18</th>\n",
       "      <td>Bangladesh</td>\n",
       "      <td>BGD</td>\n",
       "      <td>1960</td>\n",
       "      <td>4.820070e+07</td>\n",
       "    </tr>\n",
       "    <tr>\n",
       "      <th>19</th>\n",
       "      <td>Bulgaria</td>\n",
       "      <td>BGR</td>\n",
       "      <td>1960</td>\n",
       "      <td>7.867374e+06</td>\n",
       "    </tr>\n",
       "    <tr>\n",
       "      <th>20</th>\n",
       "      <td>Bahrain</td>\n",
       "      <td>BHR</td>\n",
       "      <td>1960</td>\n",
       "      <td>1.625010e+05</td>\n",
       "    </tr>\n",
       "    <tr>\n",
       "      <th>21</th>\n",
       "      <td>Bahamas, The</td>\n",
       "      <td>BHS</td>\n",
       "      <td>1960</td>\n",
       "      <td>1.095260e+05</td>\n",
       "    </tr>\n",
       "    <tr>\n",
       "      <th>22</th>\n",
       "      <td>Bosnia and Herzegovina</td>\n",
       "      <td>BIH</td>\n",
       "      <td>1960</td>\n",
       "      <td>3.214520e+06</td>\n",
       "    </tr>\n",
       "    <tr>\n",
       "      <th>23</th>\n",
       "      <td>Belarus</td>\n",
       "      <td>BLR</td>\n",
       "      <td>1960</td>\n",
       "      <td>8.198000e+06</td>\n",
       "    </tr>\n",
       "    <tr>\n",
       "      <th>24</th>\n",
       "      <td>Belize</td>\n",
       "      <td>BLZ</td>\n",
       "      <td>1960</td>\n",
       "      <td>9.206800e+04</td>\n",
       "    </tr>\n",
       "    <tr>\n",
       "      <th>25</th>\n",
       "      <td>Bermuda</td>\n",
       "      <td>BMU</td>\n",
       "      <td>1960</td>\n",
       "      <td>4.440000e+04</td>\n",
       "    </tr>\n",
       "    <tr>\n",
       "      <th>26</th>\n",
       "      <td>Bolivia</td>\n",
       "      <td>BOL</td>\n",
       "      <td>1960</td>\n",
       "      <td>3.693451e+06</td>\n",
       "    </tr>\n",
       "    <tr>\n",
       "      <th>27</th>\n",
       "      <td>Brazil</td>\n",
       "      <td>BRA</td>\n",
       "      <td>1960</td>\n",
       "      <td>7.249358e+07</td>\n",
       "    </tr>\n",
       "    <tr>\n",
       "      <th>28</th>\n",
       "      <td>Barbados</td>\n",
       "      <td>BRB</td>\n",
       "      <td>1960</td>\n",
       "      <td>2.309340e+05</td>\n",
       "    </tr>\n",
       "    <tr>\n",
       "      <th>29</th>\n",
       "      <td>Brunei Darussalam</td>\n",
       "      <td>BRN</td>\n",
       "      <td>1960</td>\n",
       "      <td>8.182500e+04</td>\n",
       "    </tr>\n",
       "    <tr>\n",
       "      <th>...</th>\n",
       "      <td>...</td>\n",
       "      <td>...</td>\n",
       "      <td>...</td>\n",
       "      <td>...</td>\n",
       "    </tr>\n",
       "    <tr>\n",
       "      <th>13610</th>\n",
       "      <td>Togo</td>\n",
       "      <td>TGO</td>\n",
       "      <td>2014</td>\n",
       "      <td>7.115163e+06</td>\n",
       "    </tr>\n",
       "    <tr>\n",
       "      <th>13611</th>\n",
       "      <td>Thailand</td>\n",
       "      <td>THA</td>\n",
       "      <td>2014</td>\n",
       "      <td>6.772598e+07</td>\n",
       "    </tr>\n",
       "    <tr>\n",
       "      <th>13612</th>\n",
       "      <td>Tajikistan</td>\n",
       "      <td>TJK</td>\n",
       "      <td>2014</td>\n",
       "      <td>8.295840e+06</td>\n",
       "    </tr>\n",
       "    <tr>\n",
       "      <th>13613</th>\n",
       "      <td>Turkmenistan</td>\n",
       "      <td>TKM</td>\n",
       "      <td>2014</td>\n",
       "      <td>5.307188e+06</td>\n",
       "    </tr>\n",
       "    <tr>\n",
       "      <th>13614</th>\n",
       "      <td>Timor-Leste</td>\n",
       "      <td>TLS</td>\n",
       "      <td>2014</td>\n",
       "      <td>1.212107e+06</td>\n",
       "    </tr>\n",
       "    <tr>\n",
       "      <th>13615</th>\n",
       "      <td>Tonga</td>\n",
       "      <td>TON</td>\n",
       "      <td>2014</td>\n",
       "      <td>1.055860e+05</td>\n",
       "    </tr>\n",
       "    <tr>\n",
       "      <th>13616</th>\n",
       "      <td>Trinidad and Tobago</td>\n",
       "      <td>TTO</td>\n",
       "      <td>2014</td>\n",
       "      <td>1.354483e+06</td>\n",
       "    </tr>\n",
       "    <tr>\n",
       "      <th>13617</th>\n",
       "      <td>Tunisia</td>\n",
       "      <td>TUN</td>\n",
       "      <td>2014</td>\n",
       "      <td>1.099660e+07</td>\n",
       "    </tr>\n",
       "    <tr>\n",
       "      <th>13618</th>\n",
       "      <td>Turkey</td>\n",
       "      <td>TUR</td>\n",
       "      <td>2014</td>\n",
       "      <td>7.593235e+07</td>\n",
       "    </tr>\n",
       "    <tr>\n",
       "      <th>13619</th>\n",
       "      <td>Tuvalu</td>\n",
       "      <td>TUV</td>\n",
       "      <td>2014</td>\n",
       "      <td>9.893000e+03</td>\n",
       "    </tr>\n",
       "    <tr>\n",
       "      <th>13620</th>\n",
       "      <td>Tanzania</td>\n",
       "      <td>TZA</td>\n",
       "      <td>2014</td>\n",
       "      <td>5.182262e+07</td>\n",
       "    </tr>\n",
       "    <tr>\n",
       "      <th>13621</th>\n",
       "      <td>Uganda</td>\n",
       "      <td>UGA</td>\n",
       "      <td>2014</td>\n",
       "      <td>3.778297e+07</td>\n",
       "    </tr>\n",
       "    <tr>\n",
       "      <th>13622</th>\n",
       "      <td>Ukraine</td>\n",
       "      <td>UKR</td>\n",
       "      <td>2014</td>\n",
       "      <td>4.536290e+07</td>\n",
       "    </tr>\n",
       "    <tr>\n",
       "      <th>13623</th>\n",
       "      <td>Upper middle income</td>\n",
       "      <td>UMC</td>\n",
       "      <td>2014</td>\n",
       "      <td>2.360818e+09</td>\n",
       "    </tr>\n",
       "    <tr>\n",
       "      <th>13624</th>\n",
       "      <td>Uruguay</td>\n",
       "      <td>URY</td>\n",
       "      <td>2014</td>\n",
       "      <td>3.419516e+06</td>\n",
       "    </tr>\n",
       "    <tr>\n",
       "      <th>13625</th>\n",
       "      <td>United States</td>\n",
       "      <td>USA</td>\n",
       "      <td>2014</td>\n",
       "      <td>3.188571e+08</td>\n",
       "    </tr>\n",
       "    <tr>\n",
       "      <th>13626</th>\n",
       "      <td>Uzbekistan</td>\n",
       "      <td>UZB</td>\n",
       "      <td>2014</td>\n",
       "      <td>3.075770e+07</td>\n",
       "    </tr>\n",
       "    <tr>\n",
       "      <th>13627</th>\n",
       "      <td>St. Vincent and the Grenadines</td>\n",
       "      <td>VCT</td>\n",
       "      <td>2014</td>\n",
       "      <td>1.093600e+05</td>\n",
       "    </tr>\n",
       "    <tr>\n",
       "      <th>13628</th>\n",
       "      <td>Venezuela, RB</td>\n",
       "      <td>VEN</td>\n",
       "      <td>2014</td>\n",
       "      <td>3.069383e+07</td>\n",
       "    </tr>\n",
       "    <tr>\n",
       "      <th>13629</th>\n",
       "      <td>Virgin Islands (U.S.)</td>\n",
       "      <td>VIR</td>\n",
       "      <td>2014</td>\n",
       "      <td>1.041700e+05</td>\n",
       "    </tr>\n",
       "    <tr>\n",
       "      <th>13630</th>\n",
       "      <td>Vietnam</td>\n",
       "      <td>VNM</td>\n",
       "      <td>2014</td>\n",
       "      <td>9.072890e+07</td>\n",
       "    </tr>\n",
       "    <tr>\n",
       "      <th>13631</th>\n",
       "      <td>Vanuatu</td>\n",
       "      <td>VUT</td>\n",
       "      <td>2014</td>\n",
       "      <td>2.588830e+05</td>\n",
       "    </tr>\n",
       "    <tr>\n",
       "      <th>13632</th>\n",
       "      <td>West Bank and Gaza</td>\n",
       "      <td>PSE</td>\n",
       "      <td>2014</td>\n",
       "      <td>4.294682e+06</td>\n",
       "    </tr>\n",
       "    <tr>\n",
       "      <th>13633</th>\n",
       "      <td>World</td>\n",
       "      <td>WLD</td>\n",
       "      <td>2014</td>\n",
       "      <td>7.259692e+09</td>\n",
       "    </tr>\n",
       "    <tr>\n",
       "      <th>13634</th>\n",
       "      <td>Samoa</td>\n",
       "      <td>WSM</td>\n",
       "      <td>2014</td>\n",
       "      <td>1.918450e+05</td>\n",
       "    </tr>\n",
       "    <tr>\n",
       "      <th>13635</th>\n",
       "      <td>Yemen, Rep.</td>\n",
       "      <td>YEM</td>\n",
       "      <td>2014</td>\n",
       "      <td>2.618368e+07</td>\n",
       "    </tr>\n",
       "    <tr>\n",
       "      <th>13636</th>\n",
       "      <td>South Africa</td>\n",
       "      <td>ZAF</td>\n",
       "      <td>2014</td>\n",
       "      <td>5.400195e+07</td>\n",
       "    </tr>\n",
       "    <tr>\n",
       "      <th>13637</th>\n",
       "      <td>Congo, Dem. Rep.</td>\n",
       "      <td>COD</td>\n",
       "      <td>2014</td>\n",
       "      <td>7.487703e+07</td>\n",
       "    </tr>\n",
       "    <tr>\n",
       "      <th>13638</th>\n",
       "      <td>Zambia</td>\n",
       "      <td>ZMB</td>\n",
       "      <td>2014</td>\n",
       "      <td>1.572134e+07</td>\n",
       "    </tr>\n",
       "    <tr>\n",
       "      <th>13639</th>\n",
       "      <td>Zimbabwe</td>\n",
       "      <td>ZWE</td>\n",
       "      <td>2014</td>\n",
       "      <td>1.524586e+07</td>\n",
       "    </tr>\n",
       "  </tbody>\n",
       "</table>\n",
       "<p>13640 rows × 4 columns</p>\n",
       "</div>"
      ],
      "text/plain": [
       "                         country_name country_code  year           pop\n",
       "0                               Aruba          ABW  1960  5.420800e+04\n",
       "1                             Andorra          AND  1960  1.341400e+04\n",
       "2                         Afghanistan          AFG  1960  8.994793e+06\n",
       "3                              Angola          AGO  1960  5.270844e+06\n",
       "4                             Albania          ALB  1960  1.608800e+06\n",
       "5                          Arab World          ARB  1960  9.249590e+07\n",
       "6                United Arab Emirates          ARE  1960  9.261200e+04\n",
       "7                           Argentina          ARG  1960  2.061908e+07\n",
       "8                             Armenia          ARM  1960  1.867396e+06\n",
       "9                      American Samoa          ASM  1960  2.001200e+04\n",
       "10                Antigua and Barbuda          ATG  1960  5.468100e+04\n",
       "11                          Australia          AUS  1960  1.027648e+07\n",
       "12                            Austria          AUT  1960  7.047539e+06\n",
       "13                         Azerbaijan          AZE  1960  3.897889e+06\n",
       "14                            Burundi          BDI  1960  2.786740e+06\n",
       "15                            Belgium          BEL  1960  9.153489e+06\n",
       "16                              Benin          BEN  1960  2.431620e+06\n",
       "17                       Burkina Faso          BFA  1960  4.829291e+06\n",
       "18                         Bangladesh          BGD  1960  4.820070e+07\n",
       "19                           Bulgaria          BGR  1960  7.867374e+06\n",
       "20                            Bahrain          BHR  1960  1.625010e+05\n",
       "21                       Bahamas, The          BHS  1960  1.095260e+05\n",
       "22             Bosnia and Herzegovina          BIH  1960  3.214520e+06\n",
       "23                            Belarus          BLR  1960  8.198000e+06\n",
       "24                             Belize          BLZ  1960  9.206800e+04\n",
       "25                            Bermuda          BMU  1960  4.440000e+04\n",
       "26                            Bolivia          BOL  1960  3.693451e+06\n",
       "27                             Brazil          BRA  1960  7.249358e+07\n",
       "28                           Barbados          BRB  1960  2.309340e+05\n",
       "29                  Brunei Darussalam          BRN  1960  8.182500e+04\n",
       "...                               ...          ...   ...           ...\n",
       "13610                            Togo          TGO  2014  7.115163e+06\n",
       "13611                        Thailand          THA  2014  6.772598e+07\n",
       "13612                      Tajikistan          TJK  2014  8.295840e+06\n",
       "13613                    Turkmenistan          TKM  2014  5.307188e+06\n",
       "13614                     Timor-Leste          TLS  2014  1.212107e+06\n",
       "13615                           Tonga          TON  2014  1.055860e+05\n",
       "13616             Trinidad and Tobago          TTO  2014  1.354483e+06\n",
       "13617                         Tunisia          TUN  2014  1.099660e+07\n",
       "13618                          Turkey          TUR  2014  7.593235e+07\n",
       "13619                          Tuvalu          TUV  2014  9.893000e+03\n",
       "13620                        Tanzania          TZA  2014  5.182262e+07\n",
       "13621                          Uganda          UGA  2014  3.778297e+07\n",
       "13622                         Ukraine          UKR  2014  4.536290e+07\n",
       "13623             Upper middle income          UMC  2014  2.360818e+09\n",
       "13624                         Uruguay          URY  2014  3.419516e+06\n",
       "13625                   United States          USA  2014  3.188571e+08\n",
       "13626                      Uzbekistan          UZB  2014  3.075770e+07\n",
       "13627  St. Vincent and the Grenadines          VCT  2014  1.093600e+05\n",
       "13628                   Venezuela, RB          VEN  2014  3.069383e+07\n",
       "13629           Virgin Islands (U.S.)          VIR  2014  1.041700e+05\n",
       "13630                         Vietnam          VNM  2014  9.072890e+07\n",
       "13631                         Vanuatu          VUT  2014  2.588830e+05\n",
       "13632              West Bank and Gaza          PSE  2014  4.294682e+06\n",
       "13633                           World          WLD  2014  7.259692e+09\n",
       "13634                           Samoa          WSM  2014  1.918450e+05\n",
       "13635                     Yemen, Rep.          YEM  2014  2.618368e+07\n",
       "13636                    South Africa          ZAF  2014  5.400195e+07\n",
       "13637                Congo, Dem. Rep.          COD  2014  7.487703e+07\n",
       "13638                          Zambia          ZMB  2014  1.572134e+07\n",
       "13639                        Zimbabwe          ZWE  2014  1.524586e+07\n",
       "\n",
       "[13640 rows x 4 columns]"
      ]
     },
     "execution_count": 21,
     "metadata": {},
     "output_type": "execute_result"
    }
   ],
   "source": [
    "pop"
   ]
  },
  {
   "cell_type": "code",
   "execution_count": 9,
   "metadata": {
    "collapsed": true
   },
   "outputs": [],
   "source": [
    "import numpy as np"
   ]
  },
  {
   "cell_type": "markdown",
   "metadata": {
    "collapsed": true
   },
   "source": [
    "## pick 10 contries"
   ]
  },
  {
   "cell_type": "code",
   "execution_count": 4,
   "metadata": {
    "collapsed": false
   },
   "outputs": [
    {
     "data": {
      "text/plain": [
       "<matplotlib.axes._subplots.AxesSubplot at 0x1038bf080>"
      ]
     },
     "execution_count": 4,
     "metadata": {},
     "output_type": "execute_result"
    },
    {
     "data": {
      "image/png": "[encoded data removed]",
      "text/plain": [
       "<matplotlib.figure.Figure at 0x114342ef0>"
      ]
     },
     "metadata": {},
     "output_type": "display_data"
    }
   ],
   "source": [
    "pop[pop.country_name=='India'].plot(kind='scatter', x='year', y='population')"
   ]
  },
  {
   "cell_type": "code",
   "execution_count": 5,
   "metadata": {
    "collapsed": false
   },
   "outputs": [
    {
     "data": {
      "text/plain": [
       "Index(['country_name', 'country_code', 'year', 'population', 'log_pop'], dtype='object')"
      ]
     },
     "execution_count": 5,
     "metadata": {},
     "output_type": "execute_result"
    }
   ],
   "source": [
    "pop.columns"
   ]
  },
  {
   "cell_type": "code",
   "execution_count": 6,
   "metadata": {
    "collapsed": true
   },
   "outputs": [],
   "source": [
    "pop1 = pop.sort_values(by = 'population')"
   ]
  },
  {
   "cell_type": "code",
   "execution_count": 64,
   "metadata": {
    "collapsed": false
   },
   "outputs": [
    {
     "data": {
      "text/html": [
       "<div>\n",
       "<table border=\"1\" class=\"dataframe\">\n",
       "  <thead>\n",
       "    <tr style=\"text-align: right;\">\n",
       "      <th></th>\n",
       "      <th>country_name</th>\n",
       "      <th>country_code</th>\n",
       "      <th>year</th>\n",
       "      <th>population</th>\n",
       "      <th>log_pop</th>\n",
       "    </tr>\n",
       "  </thead>\n",
       "  <tbody>\n",
       "    <tr>\n",
       "      <th>11733</th>\n",
       "      <td>United Kingdom</td>\n",
       "      <td>GBR</td>\n",
       "      <td>2007</td>\n",
       "      <td>61322463.0</td>\n",
       "      <td>17.931657</td>\n",
       "    </tr>\n",
       "    <tr>\n",
       "      <th>5476</th>\n",
       "      <td>Bahrain</td>\n",
       "      <td>BHR</td>\n",
       "      <td>1982</td>\n",
       "      <td>385950.0</td>\n",
       "      <td>12.863463</td>\n",
       "    </tr>\n",
       "    <tr>\n",
       "      <th>11163</th>\n",
       "      <td>Angola</td>\n",
       "      <td>AGO</td>\n",
       "      <td>2005</td>\n",
       "      <td>17912942.0</td>\n",
       "      <td>16.701034</td>\n",
       "    </tr>\n",
       "    <tr>\n",
       "      <th>6551</th>\n",
       "      <td>Iraq</td>\n",
       "      <td>IRQ</td>\n",
       "      <td>1986</td>\n",
       "      <td>15937864.0</td>\n",
       "      <td>16.584208</td>\n",
       "    </tr>\n",
       "    <tr>\n",
       "      <th>12893</th>\n",
       "      <td>Congo, Dem. Rep.</td>\n",
       "      <td>COD</td>\n",
       "      <td>2011</td>\n",
       "      <td>68087376.0</td>\n",
       "      <td>18.036302</td>\n",
       "    </tr>\n",
       "  </tbody>\n",
       "</table>\n",
       "</div>"
      ],
      "text/plain": [
       "           country_name country_code  year  population    log_pop\n",
       "11733    United Kingdom          GBR  2007  61322463.0  17.931657\n",
       "5476            Bahrain          BHR  1982    385950.0  12.863463\n",
       "11163            Angola          AGO  2005  17912942.0  16.701034\n",
       "6551               Iraq          IRQ  1986  15937864.0  16.584208\n",
       "12893  Congo, Dem. Rep.          COD  2011  68087376.0  18.036302"
      ]
     },
     "execution_count": 64,
     "metadata": {},
     "output_type": "execute_result"
    }
   ],
   "source": [
    "country = pop.iloc[np.random.randint(1, len(pop), 5),]\n",
    "country"
   ]
  },
  {
   "cell_type": "code",
   "execution_count": 75,
   "metadata": {
    "collapsed": false
   },
   "outputs": [],
   "source": [
    "name = country.country_name\n",
    "my = pop[pop.country_name.isin(country.country_name)]"
   ]
  },
  {
   "cell_type": "code",
   "execution_count": 22,
   "metadata": {
    "collapsed": false
   },
   "outputs": [
    {
     "data": {
      "text/plain": [
       "<matplotlib.axes._subplots.AxesSubplot at 0x1142a7dd8>"
      ]
     },
     "execution_count": 22,
     "metadata": {},
     "output_type": "execute_result"
    },
    {
     "data": {
      "image/png": "[encoded data removed]",
      "text/plain": [
       "<matplotlib.figure.Figure at 0x113b1b4e0>"
      ]
     },
     "metadata": {},
     "output_type": "display_data"
    }
   ],
   "source": [
    "pop[pop.country_name=='France'].plot(kind='scatter', x='year', y='population')"
   ]
  },
  {
   "cell_type": "code",
   "execution_count": 116,
   "metadata": {
    "collapsed": false
   },
   "outputs": [
    {
     "data": {
      "text/plain": [
       "<matplotlib.axes._subplots.AxesSubplot at 0x116fe2860>"
      ]
     },
     "execution_count": 116,
     "metadata": {},
     "output_type": "execute_result"
    },
    {
     "data": {
      "image/png": "[encoded data removed]",
      "text/plain": [
       "<matplotlib.figure.Figure at 0x11a637e80>"
      ]
     },
     "metadata": {},
     "output_type": "display_data"
    }
   ],
   "source": [
    "df = my[['year', 'population', 'country_name']]\n",
    "dp = df.pivot_table(columns= 'country_name', index='year', values='population')\n",
    "# df.columns\n",
    "# sns.boxplot(dp)\n",
    "dp.plot()"
   ]
  },
  {
   "cell_type": "code",
   "execution_count": 118,
   "metadata": {
    "collapsed": false
   },
   "outputs": [
    {
     "data": {
      "text/html": [
       "<div>\n",
       "<table border=\"1\" class=\"dataframe\">\n",
       "  <thead>\n",
       "    <tr style=\"text-align: right;\">\n",
       "      <th>country_name</th>\n",
       "      <th>Angola</th>\n",
       "      <th>Bahrain</th>\n",
       "      <th>Congo, Dem. Rep.</th>\n",
       "      <th>Iraq</th>\n",
       "      <th>United Kingdom</th>\n",
       "    </tr>\n",
       "    <tr>\n",
       "      <th>year</th>\n",
       "      <th></th>\n",
       "      <th></th>\n",
       "      <th></th>\n",
       "      <th></th>\n",
       "      <th></th>\n",
       "    </tr>\n",
       "  </thead>\n",
       "  <tbody>\n",
       "    <tr>\n",
       "      <th>1960</th>\n",
       "      <td>5270844.0</td>\n",
       "      <td>162501.0</td>\n",
       "      <td>15248246.0</td>\n",
       "      <td>7289759.0</td>\n",
       "      <td>52400000.0</td>\n",
       "    </tr>\n",
       "    <tr>\n",
       "      <th>1961</th>\n",
       "      <td>5367287.0</td>\n",
       "      <td>167924.0</td>\n",
       "      <td>15637715.0</td>\n",
       "      <td>7475354.0</td>\n",
       "      <td>52800000.0</td>\n",
       "    </tr>\n",
       "    <tr>\n",
       "      <th>1962</th>\n",
       "      <td>5465905.0</td>\n",
       "      <td>173107.0</td>\n",
       "      <td>16041247.0</td>\n",
       "      <td>7674220.0</td>\n",
       "      <td>53250000.0</td>\n",
       "    </tr>\n",
       "    <tr>\n",
       "      <th>1963</th>\n",
       "      <td>5565808.0</td>\n",
       "      <td>178048.0</td>\n",
       "      <td>16461914.0</td>\n",
       "      <td>7888914.0</td>\n",
       "      <td>53650000.0</td>\n",
       "    </tr>\n",
       "    <tr>\n",
       "      <th>1964</th>\n",
       "      <td>5665701.0</td>\n",
       "      <td>182774.0</td>\n",
       "      <td>16903899.0</td>\n",
       "      <td>8122200.0</td>\n",
       "      <td>54000000.0</td>\n",
       "    </tr>\n",
       "  </tbody>\n",
       "</table>\n",
       "</div>"
      ],
      "text/plain": [
       "country_name     Angola   Bahrain  Congo, Dem. Rep.       Iraq  United Kingdom\n",
       "year                                                                          \n",
       "1960          5270844.0  162501.0        15248246.0  7289759.0      52400000.0\n",
       "1961          5367287.0  167924.0        15637715.0  7475354.0      52800000.0\n",
       "1962          5465905.0  173107.0        16041247.0  7674220.0      53250000.0\n",
       "1963          5565808.0  178048.0        16461914.0  7888914.0      53650000.0\n",
       "1964          5665701.0  182774.0        16903899.0  8122200.0      54000000.0"
      ]
     },
     "execution_count": 118,
     "metadata": {},
     "output_type": "execute_result"
    }
   ],
   "source": [
    "dp.head()"
   ]
  },
  {
   "cell_type": "code",
   "execution_count": 117,
   "metadata": {
    "collapsed": false
   },
   "outputs": [
    {
     "name": "stderr",
     "output_type": "stream",
     "text": [
      "/Users/jianglongli/anaconda/lib/python3.5/site-packages/seaborn/categorical.py:2125: UserWarning: The boxplot API has been changed. Attempting to adjust your arguments for the new API (which might not work). Please update your code. See the version 0.6 release notes for more info.\n",
      "  warnings.warn(msg, UserWarning)\n"
     ]
    },
    {
     "data": {
      "text/plain": [
       "<matplotlib.axes._subplots.AxesSubplot at 0x1170b0898>"
      ]
     },
     "execution_count": 117,
     "metadata": {},
     "output_type": "execute_result"
    },
    {
     "data": {
      "image/png": "[encoded data removed]",
      "text/plain": [
       "<matplotlib.figure.Figure at 0x11935e9e8>"
      ]
     },
     "metadata": {},
     "output_type": "display_data"
    }
   ],
   "source": [
    "sns.boxplot(dp)"
   ]
  },
  {
   "cell_type": "code",
   "execution_count": 44,
   "metadata": {
    "collapsed": false
   },
   "outputs": [
    {
     "data": {
      "text/plain": [
       "LinearRegression(copy_X=True, fit_intercept=True, n_jobs=1, normalize=False)"
      ]
     },
     "execution_count": 44,
     "metadata": {},
     "output_type": "execute_result"
    }
   ],
   "source": [
    "france = pop[pop.country_name == 'France']\n",
    "from sklearn.linear_model import LinearRegression\n",
    "model = LinearRegression()\n",
    "model.fit(y = france.population.values.reshape(-1, 1), X = france.year.values.reshape(-1, 1))"
   ]
  },
  {
   "cell_type": "markdown",
   "metadata": {},
   "source": [
    "# series does not work, sklearn take in np.array or dataframe"
   ]
  },
  {
   "cell_type": "code",
   "execution_count": 79,
   "metadata": {
    "collapsed": false
   },
   "outputs": [
    {
     "data": {
      "text/plain": [
       "pandas.core.series.Series"
      ]
     },
     "execution_count": 79,
     "metadata": {},
     "output_type": "execute_result"
    }
   ],
   "source": [
    "type(france['year'])"
   ]
  },
  {
   "cell_type": "code",
   "execution_count": 78,
   "metadata": {
    "collapsed": false
   },
   "outputs": [
    {
     "data": {
      "text/plain": [
       "pandas.core.frame.DataFrame"
      ]
     },
     "execution_count": 78,
     "metadata": {},
     "output_type": "execute_result"
    }
   ],
   "source": [
    "type(france[['year']])"
   ]
  },
  {
   "cell_type": "code",
   "execution_count": 80,
   "metadata": {
    "collapsed": false
   },
   "outputs": [
    {
     "data": {
      "text/plain": [
       "(55, 1)"
      ]
     },
     "execution_count": 80,
     "metadata": {},
     "output_type": "execute_result"
    }
   ],
   "source": [
    "france[['year']].shape"
   ]
  },
  {
   "cell_type": "code",
   "execution_count": 81,
   "metadata": {
    "collapsed": false
   },
   "outputs": [
    {
     "data": {
      "text/plain": [
       "(55,)"
      ]
     },
     "execution_count": 81,
     "metadata": {},
     "output_type": "execute_result"
    }
   ],
   "source": [
    "france['year'].shape"
   ]
  },
  {
   "cell_type": "code",
   "execution_count": 57,
   "metadata": {
    "collapsed": false
   },
   "outputs": [
    {
     "data": {
      "text/plain": [
       "array([2017, 2018, 2019, 2020, 2021, 2022, 2023, 2024, 2025, 2026, 2027,\n",
       "       2028, 2029, 2030, 2031, 2032, 2033, 2034, 2035, 2036, 2037, 2038,\n",
       "       2039, 2040, 2041, 2042, 2043, 2044, 2045, 2046])"
      ]
     },
     "execution_count": 57,
     "metadata": {},
     "output_type": "execute_result"
    }
   ],
   "source": [
    "predyear = np.arange(2017, 2047)\n",
    "predyear"
   ]
  },
  {
   "cell_type": "code",
   "execution_count": 52,
   "metadata": {
    "collapsed": false
   },
   "outputs": [
    {
     "data": {
      "text/plain": [
       "array([[ 67128406.61861479],\n",
       "       [ 67455929.60772014],\n",
       "       [ 67783452.59682548],\n",
       "       [ 68110975.58593082],\n",
       "       [ 68438498.57503617],\n",
       "       [ 68766021.56414151],\n",
       "       [ 69093544.55324686],\n",
       "       [ 69421067.5423522 ],\n",
       "       [ 69748590.53145754],\n",
       "       [ 70076113.52056289],\n",
       "       [ 70403636.50966823],\n",
       "       [ 70731159.49877357],\n",
       "       [ 71058682.48787892],\n",
       "       [ 71386205.47698426],\n",
       "       [ 71713728.46608961],\n",
       "       [ 72041251.45519495],\n",
       "       [ 72368774.44430029],\n",
       "       [ 72696297.43340564],\n",
       "       [ 73023820.42251098],\n",
       "       [ 73351343.41161621],\n",
       "       [ 73678866.40072155],\n",
       "       [ 74006389.38982689],\n",
       "       [ 74333912.37893224],\n",
       "       [ 74661435.36803758],\n",
       "       [ 74988958.35714293],\n",
       "       [ 75316481.34624827],\n",
       "       [ 75644004.33535361],\n",
       "       [ 75971527.32445896],\n",
       "       [ 76299050.3135643 ],\n",
       "       [ 76626573.30266964]])"
      ]
     },
     "execution_count": 52,
     "metadata": {},
     "output_type": "execute_result"
    }
   ],
   "source": [
    "model.predict(predyear.reshape(-1, 1))"
   ]
  },
  {
   "cell_type": "code",
   "execution_count": 82,
   "metadata": {
    "collapsed": true
   },
   "outputs": [],
   "source": [
    "from sklearn.metrics import mean_absolute_error, mean_squared_error"
   ]
  },
  {
   "cell_type": "code",
   "execution_count": null,
   "metadata": {
    "collapsed": true
   },
   "outputs": [],
   "source": [
    "mean_absolute_error()"
   ]
  },
  {
   "cell_type": "code",
   "execution_count": 58,
   "metadata": {
    "collapsed": false
   },
   "outputs": [
    {
     "data": {
      "text/plain": [
       "<seaborn.axisgrid.FacetGrid at 0x1177411d0>"
      ]
     },
     "execution_count": 58,
     "metadata": {},
     "output_type": "execute_result"
    },
    {
     "data": {
      "image/png": "[encoded data removed]",
      "text/plain": [
       "<matplotlib.figure.Figure at 0x117741390>"
      ]
     },
     "metadata": {},
     "output_type": "display_data"
    }
   ],
   "source": [
    "sns.lmplot(x = 'year', y = 'population', data = france, aspect=1.5, scatter_kws={'alpha':0.2})"
   ]
  },
  {
   "cell_type": "code",
   "execution_count": 67,
   "metadata": {
    "collapsed": false
   },
   "outputs": [],
   "source": [
    "pred = model.predict(predyear.reshape(-1, 1))"
   ]
  },
  {
   "cell_type": "code",
   "execution_count": 73,
   "metadata": {
    "collapsed": false
   },
   "outputs": [
    {
     "data": {
      "text/plain": [
       "array([2017, 2018, 2019, 2020, 2021, 2022, 2023, 2024, 2025, 2026, 2027,\n",
       "       2028, 2029, 2030, 2031, 2032, 2033, 2034, 2035, 2036, 2037, 2038,\n",
       "       2039, 2040, 2041, 2042, 2043, 2044, 2045, 2046])"
      ]
     },
     "execution_count": 73,
     "metadata": {},
     "output_type": "execute_result"
    }
   ],
   "source": [
    "predyear"
   ]
  },
  {
   "cell_type": "code",
   "execution_count": 74,
   "metadata": {
    "collapsed": false
   },
   "outputs": [
    {
     "data": {
      "text/plain": [
       "array([[ 67128406.61861479],\n",
       "       [ 67455929.60772014],\n",
       "       [ 67783452.59682548],\n",
       "       [ 68110975.58593082],\n",
       "       [ 68438498.57503617],\n",
       "       [ 68766021.56414151],\n",
       "       [ 69093544.55324686],\n",
       "       [ 69421067.5423522 ],\n",
       "       [ 69748590.53145754],\n",
       "       [ 70076113.52056289],\n",
       "       [ 70403636.50966823],\n",
       "       [ 70731159.49877357],\n",
       "       [ 71058682.48787892],\n",
       "       [ 71386205.47698426],\n",
       "       [ 71713728.46608961],\n",
       "       [ 72041251.45519495],\n",
       "       [ 72368774.44430029],\n",
       "       [ 72696297.43340564],\n",
       "       [ 73023820.42251098],\n",
       "       [ 73351343.41161621],\n",
       "       [ 73678866.40072155],\n",
       "       [ 74006389.38982689],\n",
       "       [ 74333912.37893224],\n",
       "       [ 74661435.36803758],\n",
       "       [ 74988958.35714293],\n",
       "       [ 75316481.34624827],\n",
       "       [ 75644004.33535361],\n",
       "       [ 75971527.32445896],\n",
       "       [ 76299050.3135643 ],\n",
       "       [ 76626573.30266964]])"
      ]
     },
     "execution_count": 74,
     "metadata": {},
     "output_type": "execute_result"
    }
   ],
   "source": [
    "pred"
   ]
  },
  {
   "cell_type": "code",
   "execution_count": null,
   "metadata": {
    "collapsed": true
   },
   "outputs": [],
   "source": [
    "pred1 = pd."
   ]
  },
  {
   "cell_type": "code",
   "execution_count": 72,
   "metadata": {
    "collapsed": false
   },
   "outputs": [
    {
     "data": {
      "text/plain": [
       "[]"
      ]
     },
     "execution_count": 72,
     "metadata": {},
     "output_type": "execute_result"
    },
    {
     "data": {
      "image/png": "[encoded data removed]",
      "text/plain": [
       "<matplotlib.figure.Figure at 0x117508470>"
      ]
     },
     "metadata": {},
     "output_type": "display_data"
    }
   ],
   "source": [
    "plt.plot(x = predyear, y = pred)"
   ]
  },
  {
   "cell_type": "code",
   "execution_count": 32,
   "metadata": {
    "collapsed": false
   },
   "outputs": [
    {
     "data": {
      "text/plain": [
       "array([ 46814237.,  47444751.,  48119649.,  48803680.,  49449403.,\n",
       "        50023774.,  50508717.,  50915456.,  51276054.,  51638260.,\n",
       "        52035095.,  52480421.,  52959228.,  53441264.,  53882416.,\n",
       "        54252574.,  54541493.,  54764462.,  54947975.,  55130594.,\n",
       "        55340782.,  55585824.,  55858727.,  56156284.,  56470769.,\n",
       "        56795686.,  57132691.,  57482591.,  57836486.,  58182702.,\n",
       "        58512808.,  58559312.,  58851216.,  59106766.,  59327194.,\n",
       "        59541900.,  59753098.,  59964845.,  60186291.,  60496715.,\n",
       "        60912498.,  61357431.,  61805267.,  62244884.,  62704897.,\n",
       "        63179356.,  63621376.,  64016229.,  64374990.,  64707044.,\n",
       "        65027512.,  65342776.,  65639975.,  65925498.,  66217509.])"
      ]
     },
     "execution_count": 32,
     "metadata": {},
     "output_type": "execute_result"
    }
   ],
   "source": [
    "france.population.values"
   ]
  },
  {
   "cell_type": "code",
   "execution_count": 38,
   "metadata": {
    "collapsed": false
   },
   "outputs": [
    {
     "data": {
      "text/plain": [
       "array([1960, 1961, 1962, 1963, 1964, 1965, 1966, 1967, 1968, 1969, 1970,\n",
       "       1971, 1972, 1973, 1974, 1975, 1976, 1977, 1978, 1979, 1980, 1981,\n",
       "       1982, 1983, 1984, 1985, 1986, 1987, 1988, 1989, 1990, 1991, 1992,\n",
       "       1993, 1994, 1995, 1996, 1997, 1998, 1999, 2000, 2001, 2002, 2003,\n",
       "       2004, 2005, 2006, 2007, 2008, 2009, 2010, 2011, 2012, 2013, 2014])"
      ]
     },
     "execution_count": 38,
     "metadata": {},
     "output_type": "execute_result"
    }
   ],
   "source": [
    "france.year.values"
   ]
  },
  {
   "cell_type": "code",
   "execution_count": null,
   "metadata": {
    "collapsed": true
   },
   "outputs": [],
   "source": []
  }
 ],
 "metadata": {
  "kernelspec": {
   "display_name": "Python 3",
   "language": "python",
   "name": "python3"
  },
  "language_info": {
   "codemirror_mode": {
    "name": "ipython",
    "version": 3
   },
   "file_extension": ".py",
   "mimetype": "text/x-python",
   "name": "python",
   "nbconvert_exporter": "python",
   "pygments_lexer": "ipython3",
   "version": "3.5.1"
  }
 },
 "nbformat": 4,
 "nbformat_minor": 0
}
