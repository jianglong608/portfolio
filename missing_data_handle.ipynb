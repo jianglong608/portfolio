{
 "cells": [
  {
   "cell_type": "code",
   "execution_count": 1,
   "metadata": {
    "collapsed": false
   },
   "outputs": [
    {
     "name": "stdout",
     "output_type": "stream",
     "text": [
      "Score with the entire dataset = 0.56\n"
     ]
    },
    {
     "name": "stderr",
     "output_type": "stream",
     "text": [
      "/Users/jianglongli/anaconda/lib/python3.5/site-packages/ipykernel/__main__.py:49: VisibleDeprecationWarning: using a non-integer number instead of an integer will result in an error in the future\n",
      "/Users/jianglongli/anaconda/lib/python3.5/site-packages/numpy/core/numeric.py:190: VisibleDeprecationWarning: using a non-integer number instead of an integer will result in an error in the future\n",
      "  a = empty(shape, dtype, order)\n",
      "/Users/jianglongli/anaconda/lib/python3.5/site-packages/ipykernel/__main__.py:53: VisibleDeprecationWarning: using a non-integer number instead of an integer will result in an error in the future\n"
     ]
    }
   ],
   "source": [
    "\"\"\"\n",
    "======================================================\n",
    "Imputing missing values before building an estimator\n",
    "======================================================\n",
    "\n",
    "This example shows that imputing the missing values can give better results\n",
    "than discarding the samples containing any missing value.\n",
    "Imputing does not always improve the predictions, so please check via cross-validation.\n",
    "Sometimes dropping rows or using marker values is more effective.\n",
    "\n",
    "Missing values can be replaced by the mean, the median or the most frequent\n",
    "value using the ``strategy`` hyper-parameter.\n",
    "The median is a more robust estimator for data with high magnitude variables\n",
    "which could dominate results (otherwise known as a 'long tail').\n",
    "\n",
    "Script output::\n",
    "\n",
    "  Score with the entire dataset = 0.56\n",
    "  Score without the samples containing missing values = 0.48\n",
    "  Score after imputation of the missing values = 0.55\n",
    "\n",
    "In this case, imputing helps the classifier get close to the original score.\n",
    "  \n",
    "\"\"\"\n",
    "import numpy as np\n",
    "\n",
    "from sklearn.datasets import load_boston\n",
    "from sklearn.ensemble import RandomForestRegressor\n",
    "from sklearn.pipeline import Pipeline\n",
    "from sklearn.preprocessing import Imputer\n",
    "from sklearn.cross_validation import cross_val_score\n",
    "\n",
    "rng = np.random.RandomState(0)\n",
    "\n",
    "dataset = load_boston()\n",
    "X_full, y_full = dataset.data, dataset.target\n",
    "n_samples = X_full.shape[0]\n",
    "n_features = X_full.shape[1]\n",
    "\n",
    "# Estimate the score on the entire dataset, with no missing values\n",
    "estimator = RandomForestRegressor(random_state=0, n_estimators=100)\n",
    "score = cross_val_score(estimator, X_full, y_full).mean()\n",
    "print(\"Score with the entire dataset = %.2f\" % score)\n",
    "\n",
    "# Add missing values in 75% of the lines\n",
    "missing_rate = 0.75\n",
    "n_missing_samples = np.floor(n_samples * missing_rate)\n",
    "missing_samples = np.hstack((np.zeros(n_samples - n_missing_samples,\n",
    "                                      dtype=np.bool),\n",
    "                             np.ones(n_missing_samples,\n",
    "                                     dtype=np.bool)))\n",
    "rng.shuffle(missing_samples)\n",
    "missing_features = rng.randint(0, n_features, n_missing_samples)"
   ]
  },
  {
   "cell_type": "code",
   "execution_count": 3,
   "metadata": {
    "collapsed": false
   },
   "outputs": [
    {
     "data": {
      "text/plain": [
       "(506, 13)"
      ]
     },
     "execution_count": 3,
     "metadata": {},
     "output_type": "execute_result"
    }
   ],
   "source": [
    "dataset.data.shape"
   ]
  },
  {
   "cell_type": "code",
   "execution_count": 24,
   "metadata": {
    "collapsed": false
   },
   "outputs": [
    {
     "data": {
      "text/plain": [
       "array([ 8,  3,  6,  9, 10,  3,  2, 11,  7,  0,  3, 10,  0,  3,  6,  1, 12,\n",
       "       11,  9,  2,  9,  4,  9, 11,  1,  3,  2,  4,  9,  7,  4,  9,  4,  1,\n",
       "        2,  7,  2,  3,  9, 10,  7, 10,  6,  6, 12,  2, 10,  3,  6,  0, 12,\n",
       "       10,  8,  0, 10, 11,  7,  6,  5,  9,  6,  5, 11,  2,  7, 12,  1,  9,\n",
       "        2,  2, 12,  5, 11,  6,  4,  2, 12,  2,  1, 12,  0,  9,  0,  2,  8,\n",
       "        3, 10,  0, 10, 11,  8,  8,  1,  0,  5,  8,  2,  3, 12,  5, 11,  3,\n",
       "        8,  6,  4,  6, 12,  3,  6,  2, 12, 12,  6,  5, 11,  5,  9,  4,  6,\n",
       "        5, 11,  1,  3,  3, 10,  8,  9,  5,  5,  6,  0,  9,  7,  5,  1,  5,\n",
       "        6, 12, 10, 10, 11,  6,  8,  7,  5, 11, 10,  3, 10,  2,  9, 11,  9,\n",
       "        3,  2,  5, 10,  4,  1,  5,  8,  3,  5,  8,  4, 10,  1,  7,  8,  1,\n",
       "        2,  1,  1,  7,  5, 11,  0,  4,  1,  1, 12,  6,  6,  0,  2,  3,  7,\n",
       "       12,  9,  2, 11,  4,  9,  0, 12,  6,  9,  2,  4,  7,  3,  0, 12,  5,\n",
       "        4,  0,  2,  3,  1,  7, 10,  1,  3, 10,  4, 10,  1,  7,  4,  0, 10,\n",
       "        2, 12, 10,  7,  4,  0,  2,  6,  9,  2,  4, 12,  9,  9, 12,  5,  4,\n",
       "       10,  4,  9, 10, 12,  8,  1,  5,  7,  0, 10,  1, 10,  3,  9,  2,  8,\n",
       "        2,  4, 12,  8,  2,  9,  8,  7, 10, 11, 12,  8,  2,  3, 12,  3,  6,\n",
       "        0, 10,  3,  6, 11,  3,  9,  6,  3,  2,  2,  2,  6,  4, 11,  6,  0,\n",
       "        4,  9,  2,  1, 12,  6,  1,  7, 12,  5,  6,  1, 10,  6,  6,  6,  6,\n",
       "       11,  2,  5,  2,  2,  3,  2, 12,  9,  3,  8,  5,  4,  5, 11,  1, 11,\n",
       "       12, 12,  5,  8,  2,  9, 12, 12,  9,  5,  6,  4,  0,  8, 10,  5,  5,\n",
       "        5, 11,  1,  0,  0,  0,  0, 10, 12,  0, 10,  7,  6,  3,  5,  4,  3,\n",
       "        4,  5, 12, 12, 10,  1,  3, 12,  6,  7,  4,  0,  0,  7, 10, 12,  3,\n",
       "        3,  0,  0,  9,  4])"
      ]
     },
     "execution_count": 24,
     "metadata": {},
     "output_type": "execute_result"
    }
   ],
   "source": [
    "missing_features"
   ]
  },
  {
   "cell_type": "code",
   "execution_count": 7,
   "metadata": {
    "collapsed": false
   },
   "outputs": [
    {
     "data": {
      "text/plain": [
       "(506,)"
      ]
     },
     "execution_count": 7,
     "metadata": {},
     "output_type": "execute_result"
    }
   ],
   "source": [
    "missing_samples.shape"
   ]
  },
  {
   "cell_type": "code",
   "execution_count": 8,
   "metadata": {
    "collapsed": true
   },
   "outputs": [],
   "source": [
    "# Estimate the score without the lines containing missing values\n",
    "X_filtered = X_full[~missing_samples, :]\n",
    "y_filtered = y_full[~missing_samples]"
   ]
  },
  {
   "cell_type": "code",
   "execution_count": 18,
   "metadata": {
    "collapsed": false
   },
   "outputs": [
    {
     "name": "stdout",
     "output_type": "stream",
     "text": [
      "Score without the samples containing missing values = 0.48\n"
     ]
    }
   ],
   "source": [
    "estimator = RandomForestRegressor(random_state=0, n_estimators=100)\n",
    "score = cross_val_score(estimator, X_filtered, y_filtered).mean()\n",
    "print(\"Score without the samples containing missing values = %.2f\" % score)\n",
    "\n",
    "# Estimate the score after imputation of the missing values\n",
    "X_missing = X_full.copy()\n",
    "X_missing[np.where(missing_samples)[0], missing_features] = 0\n",
    "y_missing = y_full.copy()"
   ]
  },
  {
   "cell_type": "code",
   "execution_count": 25,
   "metadata": {
    "collapsed": false
   },
   "outputs": [
    {
     "name": "stdout",
     "output_type": "stream",
     "text": [
      "Score after imputation of the missing values = 0.57\n"
     ]
    }
   ],
   "source": [
    "estimator = Pipeline([(\"imputer\", Imputer(missing_values=0,\n",
    "                                          strategy=\"mean\",\n",
    "                                          axis=0)),\n",
    "                      (\"forest\", RandomForestRegressor(random_state=0,\n",
    "                                                       n_estimators=100))])\n",
    "score = cross_val_score(estimator, X_missing, y_missing).mean()\n",
    "print(\"Score after imputation of the missing values = %.2f\" % score)"
   ]
  },
  {
   "cell_type": "code",
   "execution_count": null,
   "metadata": {
    "collapsed": true
   },
   "outputs": [],
   "source": [
    "Pipeline()"
   ]
  }
 ],
 "metadata": {
  "kernelspec": {
   "display_name": "Python 3",
   "language": "python",
   "name": "python3"
  },
  "language_info": {
   "codemirror_mode": {
    "name": "ipython",
    "version": 3
   },
   "file_extension": ".py",
   "mimetype": "text/x-python",
   "name": "python",
   "nbconvert_exporter": "python",
   "pygments_lexer": "ipython3",
   "version": "3.5.1"
  }
 },
 "nbformat": 4,
 "nbformat_minor": 0
}
